{
 "cells": [
  {
   "cell_type": "code",
   "execution_count": null,
   "id": "ba40bc9a",
   "metadata": {},
   "outputs": [],
   "source": [
    "!python3 -m spacy download en_core_web_sm"
   ]
  },
  {
   "cell_type": "code",
   "execution_count": null,
   "id": "f9206d90",
   "metadata": {},
   "outputs": [],
   "source": [
    "# import spacy\n",
    "# from spacy import displacy\n",
    "# from collections import Counter\n",
    "# import en_core_web_sm\n",
    "# #nlp = en_core_web_sm.load()"
   ]
  },
  {
   "cell_type": "code",
   "execution_count": 3,
   "id": "ddbcbbd1",
   "metadata": {},
   "outputs": [],
   "source": [
    "import spacy\n",
    "\n",
    "nlp = spacy.load(\"en_core_web_sm\")"
   ]
  },
  {
   "cell_type": "code",
   "execution_count": 4,
   "id": "deb12361",
   "metadata": {},
   "outputs": [
    {
     "data": {
      "text/plain": [
       "'DMA 3 is part of the Kitchener network. The average DMA water demand is 15 CMH with max demand of 18 CMH at 8AM and min demand of 8 CMH at 3AM. Pumping station S1 supplies the water to the DMA. Flow meter FM3 is at the outlet of the pumping station and inlet of the DMA and measures the pump station outflow to the DMA. The DMA is isolated from the rest of the network by 2 closed valves: V11 and V12. In the DMA we have two pressure sensors P31 and P32. The average pressure in the DMA is 67 PSI. In the DMA we have 760 customers. Customer C31 typically experiences low pressure if there is a pipe burst in the DMA. You have access to data from pressure sensors P31, P32 and flow meter FM3 so whenever someone needs to know what the data is or set up an alarm, they can ask you to do that for them. '"
      ]
     },
     "execution_count": 4,
     "metadata": {},
     "output_type": "execute_result"
    }
   ],
   "source": [
    "import pandas as pd\n",
    "\n",
    "data = pd.read_excel(\"doc.xlsx\")\n",
    "text = data['Para']\n",
    "para = text[0]\n",
    "para"
   ]
  },
  {
   "cell_type": "code",
   "execution_count": 5,
   "id": "bbc178a9",
   "metadata": {},
   "outputs": [
    {
     "data": {
      "text/plain": [
       "['CARDINAL',\n",
       " 'DATE',\n",
       " 'EVENT',\n",
       " 'FAC',\n",
       " 'GPE',\n",
       " 'LANGUAGE',\n",
       " 'LAW',\n",
       " 'LOC',\n",
       " 'MONEY',\n",
       " 'NORP',\n",
       " 'ORDINAL',\n",
       " 'ORG',\n",
       " 'PERCENT',\n",
       " 'PERSON',\n",
       " 'PRODUCT',\n",
       " 'QUANTITY',\n",
       " 'TIME',\n",
       " 'WORK_OF_ART']"
      ]
     },
     "execution_count": 5,
     "metadata": {},
     "output_type": "execute_result"
    }
   ],
   "source": [
    "nlp.pipe_labels['ner']"
   ]
  },
  {
   "cell_type": "code",
   "execution_count": 6,
   "id": "c12f9e92",
   "metadata": {},
   "outputs": [],
   "source": [
    "# doc = nlp(\"Tesla Inc is going to acquire twitter for $45 billion\")\n",
    "# for ent in doc.ents:\n",
    "#     print(ent.text, \" | \", ent.label_, \" | \", spacy.explain(ent.label_))"
   ]
  },
  {
   "cell_type": "code",
   "execution_count": 7,
   "id": "4f3f13c2",
   "metadata": {
    "scrolled": true
   },
   "outputs": [
    {
     "name": "stdout",
     "output_type": "stream",
     "text": [
      "[('Kitchener', 'PERSON'), ('15', 'CARDINAL'), ('max', 'PERSON'), ('18', 'CARDINAL'), ('8', 'CARDINAL'), ('3AM', 'CARDINAL'), ('S1', 'ORG'), ('DMA', 'ORG'), ('DMA', 'ORG'), ('DMA', 'ORG'), ('2', 'CARDINAL'), ('V11', 'ORG'), ('V12', 'PRODUCT'), ('two', 'CARDINAL'), ('P31', 'ORG'), ('P32', 'ORG'), ('DMA', 'ORG'), ('67', 'CARDINAL'), ('PSI', 'ORG'), ('760', 'CARDINAL'), ('P31', 'ORG'), ('P32', 'ORG')]\n"
     ]
    }
   ],
   "source": [
    "doc = nlp(para)\n",
    "print([(X.text, X.label_) for X in doc.ents])"
   ]
  },
  {
   "cell_type": "code",
   "execution_count": 8,
   "id": "76eebd6c",
   "metadata": {},
   "outputs": [
    {
     "data": {
      "text/plain": [
       "Kitchener"
      ]
     },
     "execution_count": 8,
     "metadata": {},
     "output_type": "execute_result"
    }
   ],
   "source": [
    "s = doc[6]\n",
    "s"
   ]
  },
  {
   "cell_type": "code",
   "execution_count": 9,
   "id": "4ef65ee8",
   "metadata": {},
   "outputs": [
    {
     "data": {
      "text/plain": [
       "spacy.tokens.token.Token"
      ]
     },
     "execution_count": 9,
     "metadata": {},
     "output_type": "execute_result"
    }
   ],
   "source": [
    "type(s)\n"
   ]
  },
  {
   "cell_type": "code",
   "execution_count": 10,
   "id": "48fb7b7e",
   "metadata": {},
   "outputs": [],
   "source": [
    "from spacy.tokens import Span\n",
    "\n",
    "s1 = Span(doc, 0, 2, label=\"LOC\")\n",
    "s2 = Span(doc, 6, 8, label=\"ORG\")\n",
    "\n",
    "doc.set_ents([s1, s2], default=\"unmodified\")"
   ]
  },
  {
   "cell_type": "code",
   "execution_count": 11,
   "id": "6552321d",
   "metadata": {},
   "outputs": [
    {
     "name": "stdout",
     "output_type": "stream",
     "text": [
      "[('DMA 3', 'LOC'), ('Kitchener network', 'ORG'), ('15', 'CARDINAL'), ('max', 'PERSON'), ('18', 'CARDINAL'), ('8', 'CARDINAL'), ('3AM', 'CARDINAL'), ('S1', 'ORG'), ('DMA', 'ORG'), ('DMA', 'ORG'), ('DMA', 'ORG'), ('2', 'CARDINAL'), ('V11', 'ORG'), ('V12', 'PRODUCT'), ('two', 'CARDINAL'), ('P31', 'ORG'), ('P32', 'ORG'), ('DMA', 'ORG'), ('67', 'CARDINAL'), ('PSI', 'ORG'), ('760', 'CARDINAL'), ('P31', 'ORG'), ('P32', 'ORG')]\n"
     ]
    }
   ],
   "source": [
    "print([(X.text, X.label_) for X in doc.ents])"
   ]
  },
  {
   "cell_type": "code",
   "execution_count": 12,
   "id": "9901ad6b",
   "metadata": {},
   "outputs": [
    {
     "name": "stdout",
     "output_type": "stream",
     "text": [
      "DMA 3  |  LOC\n",
      "Kitchener network  |  ORG\n",
      "15  |  CARDINAL\n",
      "max  |  PERSON\n",
      "18  |  CARDINAL\n",
      "8  |  CARDINAL\n",
      "3AM  |  CARDINAL\n",
      "S1  |  ORG\n",
      "DMA  |  ORG\n",
      "DMA  |  ORG\n",
      "DMA  |  ORG\n",
      "2  |  CARDINAL\n",
      "V11  |  ORG\n",
      "V12  |  PRODUCT\n",
      "two  |  CARDINAL\n",
      "P31  |  ORG\n",
      "P32  |  ORG\n",
      "DMA  |  ORG\n",
      "67  |  CARDINAL\n",
      "PSI  |  ORG\n",
      "760  |  CARDINAL\n",
      "P31  |  ORG\n",
      "P32  |  ORG\n"
     ]
    }
   ],
   "source": [
    "for ent in doc.ents:\n",
    "    print(ent.text, \" | \", ent.label_)"
   ]
  },
  {
   "cell_type": "code",
   "execution_count": 13,
   "id": "736f3a00",
   "metadata": {},
   "outputs": [],
   "source": [
    "import spacy\n",
    "from spacy.matcher import Matcher\n",
    "\n",
    "nlp = spacy.load(\"en_core_web_sm\")\n",
    "matcher = Matcher(nlp.vocab)\n",
    "pattern = [{\"ORTH\": \"Pxx\"}, {\"SHAPE\": \"ddd\"}]\n",
    "matcher.add(\"Pressure\", [pattern])"
   ]
  },
  {
   "cell_type": "code",
   "execution_count": 14,
   "id": "84d7f436",
   "metadata": {},
   "outputs": [
    {
     "name": "stdout",
     "output_type": "stream",
     "text": [
      "[('Kitchener', 'PERSON'), ('15', 'CARDINAL'), ('max', 'PERSON'), ('18', 'CARDINAL'), ('8', 'CARDINAL'), ('3AM', 'CARDINAL'), ('S1', 'ORG'), ('DMA', 'ORG'), ('DMA', 'ORG'), ('DMA', 'ORG'), ('2', 'CARDINAL'), ('V11', 'ORG'), ('V12', 'PRODUCT'), ('two', 'CARDINAL'), ('P31', 'ORG'), ('P32', 'ORG'), ('DMA', 'ORG'), ('67', 'CARDINAL'), ('PSI', 'ORG'), ('760', 'CARDINAL'), ('P31', 'ORG'), ('P32', 'ORG')]\n"
     ]
    }
   ],
   "source": [
    "doc = nlp(para)\n",
    "print([(X.text, X.label_) for X in doc.ents])"
   ]
  },
  {
   "cell_type": "markdown",
   "id": "74a7d591",
   "metadata": {},
   "source": [
    "#Custom Model"
   ]
  },
  {
   "cell_type": "code",
   "execution_count": 39,
   "id": "cd683bd4",
   "metadata": {},
   "outputs": [
    {
     "name": "stdout",
     "output_type": "stream",
     "text": [
      "Requirement already satisfied: spacy-transformers in /Users/mac/opt/anaconda3/lib/python3.9/site-packages (1.1.8)\n",
      "Requirement already satisfied: transformers<4.22.0,>=3.4.0 in /Users/mac/opt/anaconda3/lib/python3.9/site-packages (from spacy-transformers) (4.21.2)\n",
      "Requirement already satisfied: spacy-alignments<1.0.0,>=0.7.2 in /Users/mac/opt/anaconda3/lib/python3.9/site-packages (from spacy-transformers) (0.8.5)\n",
      "Requirement already satisfied: spacy<4.0.0,>=3.4.0 in /Users/mac/opt/anaconda3/lib/python3.9/site-packages (from spacy-transformers) (3.4.1)\n",
      "Requirement already satisfied: torch>=1.6.0 in /Users/mac/opt/anaconda3/lib/python3.9/site-packages (from spacy-transformers) (1.12.1)\n",
      "Requirement already satisfied: srsly<3.0.0,>=2.4.0 in /Users/mac/opt/anaconda3/lib/python3.9/site-packages (from spacy-transformers) (2.4.4)\n",
      "Requirement already satisfied: murmurhash<1.1.0,>=0.28.0 in /Users/mac/opt/anaconda3/lib/python3.9/site-packages (from spacy<4.0.0,>=3.4.0->spacy-transformers) (1.0.8)\n",
      "Requirement already satisfied: typer<0.5.0,>=0.3.0 in /Users/mac/opt/anaconda3/lib/python3.9/site-packages (from spacy<4.0.0,>=3.4.0->spacy-transformers) (0.4.2)\n",
      "Requirement already satisfied: thinc<8.2.0,>=8.1.0 in /Users/mac/opt/anaconda3/lib/python3.9/site-packages (from spacy<4.0.0,>=3.4.0->spacy-transformers) (8.1.0)\n",
      "Requirement already satisfied: requests<3.0.0,>=2.13.0 in /Users/mac/opt/anaconda3/lib/python3.9/site-packages (from spacy<4.0.0,>=3.4.0->spacy-transformers) (2.27.1)\n",
      "Requirement already satisfied: cymem<2.1.0,>=2.0.2 in /Users/mac/opt/anaconda3/lib/python3.9/site-packages (from spacy<4.0.0,>=3.4.0->spacy-transformers) (2.0.6)\n",
      "Requirement already satisfied: langcodes<4.0.0,>=3.2.0 in /Users/mac/opt/anaconda3/lib/python3.9/site-packages (from spacy<4.0.0,>=3.4.0->spacy-transformers) (3.3.0)\n",
      "Requirement already satisfied: preshed<3.1.0,>=3.0.2 in /Users/mac/opt/anaconda3/lib/python3.9/site-packages (from spacy<4.0.0,>=3.4.0->spacy-transformers) (3.0.7)\n",
      "Requirement already satisfied: pathy>=0.3.5 in /Users/mac/opt/anaconda3/lib/python3.9/site-packages (from spacy<4.0.0,>=3.4.0->spacy-transformers) (0.6.2)\n",
      "Requirement already satisfied: spacy-legacy<3.1.0,>=3.0.9 in /Users/mac/opt/anaconda3/lib/python3.9/site-packages (from spacy<4.0.0,>=3.4.0->spacy-transformers) (3.0.10)\n",
      "Requirement already satisfied: tqdm<5.0.0,>=4.38.0 in /Users/mac/opt/anaconda3/lib/python3.9/site-packages (from spacy<4.0.0,>=3.4.0->spacy-transformers) (4.64.0)\n",
      "Requirement already satisfied: wasabi<1.1.0,>=0.9.1 in /Users/mac/opt/anaconda3/lib/python3.9/site-packages (from spacy<4.0.0,>=3.4.0->spacy-transformers) (0.10.1)\n",
      "Requirement already satisfied: packaging>=20.0 in /Users/mac/opt/anaconda3/lib/python3.9/site-packages (from spacy<4.0.0,>=3.4.0->spacy-transformers) (21.3)\n",
      "Requirement already satisfied: setuptools in /Users/mac/opt/anaconda3/lib/python3.9/site-packages (from spacy<4.0.0,>=3.4.0->spacy-transformers) (61.2.0)\n",
      "Requirement already satisfied: spacy-loggers<2.0.0,>=1.0.0 in /Users/mac/opt/anaconda3/lib/python3.9/site-packages (from spacy<4.0.0,>=3.4.0->spacy-transformers) (1.0.3)\n",
      "Requirement already satisfied: catalogue<2.1.0,>=2.0.6 in /Users/mac/opt/anaconda3/lib/python3.9/site-packages (from spacy<4.0.0,>=3.4.0->spacy-transformers) (2.0.8)\n",
      "Requirement already satisfied: numpy>=1.15.0 in /Users/mac/opt/anaconda3/lib/python3.9/site-packages (from spacy<4.0.0,>=3.4.0->spacy-transformers) (1.21.5)\n",
      "Requirement already satisfied: pydantic!=1.8,!=1.8.1,<1.10.0,>=1.7.4 in /Users/mac/opt/anaconda3/lib/python3.9/site-packages (from spacy<4.0.0,>=3.4.0->spacy-transformers) (1.9.2)\n",
      "Requirement already satisfied: jinja2 in /Users/mac/opt/anaconda3/lib/python3.9/site-packages (from spacy<4.0.0,>=3.4.0->spacy-transformers) (3.1.2)\n",
      "Requirement already satisfied: pyparsing!=3.0.5,>=2.0.2 in /Users/mac/opt/anaconda3/lib/python3.9/site-packages (from packaging>=20.0->spacy<4.0.0,>=3.4.0->spacy-transformers) (3.0.4)\n",
      "Requirement already satisfied: smart-open<6.0.0,>=5.2.1 in /Users/mac/opt/anaconda3/lib/python3.9/site-packages (from pathy>=0.3.5->spacy<4.0.0,>=3.4.0->spacy-transformers) (5.2.1)\n",
      "Requirement already satisfied: typing-extensions>=3.7.4.3 in /Users/mac/opt/anaconda3/lib/python3.9/site-packages (from pydantic!=1.8,!=1.8.1,<1.10.0,>=1.7.4->spacy<4.0.0,>=3.4.0->spacy-transformers) (4.1.1)\n",
      "Requirement already satisfied: urllib3<1.27,>=1.21.1 in /Users/mac/opt/anaconda3/lib/python3.9/site-packages (from requests<3.0.0,>=2.13.0->spacy<4.0.0,>=3.4.0->spacy-transformers) (1.26.9)\n",
      "Requirement already satisfied: charset-normalizer~=2.0.0 in /Users/mac/opt/anaconda3/lib/python3.9/site-packages (from requests<3.0.0,>=2.13.0->spacy<4.0.0,>=3.4.0->spacy-transformers) (2.0.4)\n",
      "Requirement already satisfied: idna<4,>=2.5 in /Users/mac/opt/anaconda3/lib/python3.9/site-packages (from requests<3.0.0,>=2.13.0->spacy<4.0.0,>=3.4.0->spacy-transformers) (3.3)\n",
      "Requirement already satisfied: certifi>=2017.4.17 in /Users/mac/opt/anaconda3/lib/python3.9/site-packages (from requests<3.0.0,>=2.13.0->spacy<4.0.0,>=3.4.0->spacy-transformers) (2022.6.15)\n",
      "Requirement already satisfied: blis<0.8.0,>=0.7.8 in /Users/mac/opt/anaconda3/lib/python3.9/site-packages (from thinc<8.2.0,>=8.1.0->spacy<4.0.0,>=3.4.0->spacy-transformers) (0.7.8)\n",
      "Requirement already satisfied: regex!=2019.12.17 in /Users/mac/opt/anaconda3/lib/python3.9/site-packages (from transformers<4.22.0,>=3.4.0->spacy-transformers) (2022.3.15)\n",
      "Requirement already satisfied: tokenizers!=0.11.3,<0.13,>=0.11.1 in /Users/mac/opt/anaconda3/lib/python3.9/site-packages (from transformers<4.22.0,>=3.4.0->spacy-transformers) (0.12.1)\n",
      "Requirement already satisfied: filelock in /Users/mac/opt/anaconda3/lib/python3.9/site-packages (from transformers<4.22.0,>=3.4.0->spacy-transformers) (3.6.0)\n",
      "Requirement already satisfied: huggingface-hub<1.0,>=0.1.0 in /Users/mac/opt/anaconda3/lib/python3.9/site-packages (from transformers<4.22.0,>=3.4.0->spacy-transformers) (0.9.1)\n",
      "Requirement already satisfied: pyyaml>=5.1 in /Users/mac/opt/anaconda3/lib/python3.9/site-packages (from transformers<4.22.0,>=3.4.0->spacy-transformers) (6.0)\n",
      "Requirement already satisfied: click<9.0.0,>=7.1.1 in /Users/mac/opt/anaconda3/lib/python3.9/site-packages (from typer<0.5.0,>=0.3.0->spacy<4.0.0,>=3.4.0->spacy-transformers) (8.0.4)\n",
      "Requirement already satisfied: MarkupSafe>=2.0 in /Users/mac/opt/anaconda3/lib/python3.9/site-packages (from jinja2->spacy<4.0.0,>=3.4.0->spacy-transformers) (2.0.1)\n",
      "Note: you may need to restart the kernel to use updated packages.\n"
     ]
    }
   ],
   "source": [
    "pip install spacy-transformers\n"
   ]
  },
  {
   "cell_type": "code",
   "execution_count": 40,
   "id": "216b8af3",
   "metadata": {},
   "outputs": [
    {
     "data": {
      "text/plain": [
       "'DMA 3 is part of the Kitchener network. The average DMA water demand is 15 CMH with max demand of 18 CMH at 8AM and min demand of 8 CMH at 3AM. Pumping station S1 supplies the water to the DMA. Flow meter FM3 is at the outlet of the pumping station and inlet of the DMA and measures the pump station outflow to the DMA. The DMA is isolated from the rest of the network by 2 closed valves: V11 and V12. In the DMA we have two pressure sensors P31 and P32. The average pressure in the DMA is 67 PSI. In the DMA we have 760 customers. Customer C31 typically experiences low pressure if there is a pipe burst in the DMA. You have access to data from pressure sensors P31, P32 and flow meter FM3 so whenever someone needs to know what the data is or set up an alarm, they can ask you to do that for them. '"
      ]
     },
     "execution_count": 40,
     "metadata": {},
     "output_type": "execute_result"
    }
   ],
   "source": [
    "data = pd.read_excel(\"doc.xlsx\")\n",
    "text = data['Para']\n",
    "para = text[0]\n",
    "para"
   ]
  },
  {
   "cell_type": "code",
   "execution_count": null,
   "id": "8cc75a8e",
   "metadata": {},
   "outputs": [],
   "source": []
  },
  {
   "cell_type": "code",
   "execution_count": null,
   "id": "ef95caab",
   "metadata": {},
   "outputs": [],
   "source": []
  },
  {
   "cell_type": "code",
   "execution_count": 41,
   "id": "58ccd1f9",
   "metadata": {},
   "outputs": [],
   "source": [
    "TRAIN_DATA = [('DMA 3 is part of the Kitchener network', {'entities': [(0, 3, 'Area')]}),\n",
    " ('Pumping station S1 supplies the water to the DMA?', {'entities': [(45, 48, 'Area')]}),\n",
    " ('P<xx>', {'entities': [(0, 5, 'Pressure Sensor')]}),\n",
    " ('S<x>', {'entities': [(0, 4, 'Area')]}),\n",
    " ('V<xx>', {'entities': [(0, 5, 'Area')]}),\n",
    " ('FM<x>', {'entities': [(0, 5, 'Area')]}),\n",
    " ('C<xx>', {'entities': [(0, 5, 'Area')]}),\n",
    " ('DMA <x>', {'entities': [(0, 7, 'Area')]}),\n",
    " ('and measures the pump station outflow to the DMA', {'entities': [(45, 48, 'Area')]}),\n",
    " ('we have two pressure sensors P31', {'entities': [(30, 33, 'Pressure Sensor')]}),\n",
    " ('we have two gyhtrde jikuygtn P32', {'entities': [(30, 33, 'Pressure Sensor')]}),\n",
    " ('Flow meter FM3 is at the outlet of the pumping station and inlet of the DMA', {'entities': [(73,76, 'Area')]}),\n",
    " ('The DMA is isolated from the rest of the network by 2 closed valves: V11 and V12', {'entities': [(5, 8, 'Area')]}),\n",
    " ('In the DMA',{'entities': [(8, 11, 'aircraft')]}),\n",
    " ('The average pressure in the DMA is 67 PSI',{'entities': [(29, 32, 'Area')]}),\n",
    " ('In the DMA we have 760 customers', {'entities': [(8, 11, 'Area')]}),\n",
    " ('pipe burst in the DMA', {'entities': [(19, 22, 'Area')]}),\n",
    " ('You have mjvhjy mk data mjui khgydefv nhygsek P32', {'entities': [(47, 50, 'Pressure Sensor')]}),\n",
    " ('You nkuy hkuhjk to jutr njyi oinhrxae mkyhbhu P31', {'entities': [(47, 50, 'Pressure Sensor')]})]"
   ]
  },
  {
   "cell_type": "code",
   "execution_count": 42,
   "id": "02b28424",
   "metadata": {},
   "outputs": [
    {
     "data": {
      "text/plain": [
       "'DMA 3 is part of the Kitchener network. The average DMA water demand is 15 CMH with max demand of 18 CMH at 8AM and min demand of 8 CMH at 3AM. Pumping station S1 supplies the water to the DMA. Flow meter FM3 is at the outlet of the pumping station and inlet of the DMA and measures the pump station outflow to the DMA. The DMA is isolated from the rest of the network by 2 closed valves: V11 and V12. In the DMA we have two pressure sensors P31 and P32. The average pressure in the DMA is 67 PSI. In the DMA we have 760 customers. Customer C31 typically experiences low pressure if there is a pipe burst in the DMA. You have access to data from pressure sensors P31, P32 and flow meter FM3 so whenever someone needs to know what the data is or set up an alarm, they can ask you to do that for them. '"
      ]
     },
     "execution_count": 42,
     "metadata": {},
     "output_type": "execute_result"
    }
   ],
   "source": [
    "import pandas as pd\n",
    "\n",
    "data = pd.read_excel(\"doc.xlsx\")\n",
    "text = data['Para']\n",
    "para = text[0]\n",
    "para"
   ]
  },
  {
   "cell_type": "code",
   "execution_count": 43,
   "id": "421cd785",
   "metadata": {},
   "outputs": [
    {
     "name": "stderr",
     "output_type": "stream",
     "text": [
      "100%|█████████████████████████████████████████| 19/19 [00:00<00:00, 1541.61it/s]"
     ]
    },
    {
     "name": "stdout",
     "output_type": "stream",
     "text": [
      "Skipping entity\n",
      "Skipping entity\n",
      "Skipping entity\n",
      "Skipping entity\n",
      "Skipping entity\n",
      "Skipping entity\n",
      "Skipping entity\n",
      "Skipping entity\n",
      "Skipping entity\n",
      "Skipping entity\n"
     ]
    },
    {
     "name": "stderr",
     "output_type": "stream",
     "text": [
      "\n"
     ]
    }
   ],
   "source": [
    "import pandas as pd\n",
    "import os\n",
    "from tqdm import tqdm\n",
    "import spacy\n",
    "from spacy.tokens import DocBin\n",
    "\n",
    "#nlp = spacy.blank(\"en\") # load a new spacy model\n",
    "#nlp = spacy.load(\"en_core_web_sm\") # load other spacy model\n",
    "nlp1 = spacy.load(r\"./output/model-best\") #load the best model\n",
    "\n",
    "\n",
    "db = DocBin() # create a DocBin object\n",
    "\n",
    "for text, annot in tqdm(TRAIN_DATA): # data in previous format\n",
    "    doc = nlp1.make_doc(text) # create doc object from text\n",
    "    ents = []\n",
    "    for start, end, label in annot[\"entities\"]: # add character indexes\n",
    "        span = doc.char_span(start, end, label=label, alignment_mode=\"contract\")\n",
    "        if span is None:\n",
    "            print(\"Skipping entity\")\n",
    "        else:\n",
    "            ents.append(span)\n",
    "    doc.ents = ents # label the text with the ents\n",
    "    db.add(doc)\n",
    "\n",
    "os.chdir(r'/Users/mac/Desktop/TeamSolve')\n",
    "db.to_disk(\"./train.spacy\") # save the docbin object"
   ]
  },
  {
   "cell_type": "code",
   "execution_count": 44,
   "id": "36119a0e",
   "metadata": {},
   "outputs": [
    {
     "name": "stdout",
     "output_type": "stream",
     "text": [
      "\u001b[38;5;2m✔ Auto-filled config with all values\u001b[0m\r\n",
      "\u001b[38;5;2m✔ Saved config\u001b[0m\r\n",
      "config.cfg\r\n",
      "You can now add your data and train your pipeline:\r\n",
      "python -m spacy train config.cfg --paths.train ./train.spacy --paths.dev ./dev.spacy\r\n"
     ]
    }
   ],
   "source": [
    "!python -m spacy init fill-config base_config.cfg config.cfg\n",
    "\n"
   ]
  },
  {
   "cell_type": "code",
   "execution_count": 45,
   "id": "dc687b9f",
   "metadata": {
    "scrolled": false
   },
   "outputs": [],
   "source": [
    "#!python -m spacy init fill-config base_config.cfg output_file --diff"
   ]
  },
  {
   "cell_type": "code",
   "execution_count": 46,
   "id": "2e55d6b0",
   "metadata": {},
   "outputs": [
    {
     "name": "stdout",
     "output_type": "stream",
     "text": [
      "\u001b[38;5;4mℹ Saving to output directory: output\u001b[0m\n",
      "\u001b[38;5;4mℹ Using CPU\u001b[0m\n",
      "\u001b[1m\n",
      "=========================== Initializing pipeline ===========================\u001b[0m\n",
      "[2022-09-07 16:20:46,965] [INFO] Set up nlp object from config\n",
      "[2022-09-07 16:20:46,979] [INFO] Pipeline: ['tok2vec', 'ner']\n",
      "[2022-09-07 16:20:46,984] [INFO] Created vocabulary\n",
      "[2022-09-07 16:20:46,985] [INFO] Finished initializing nlp object\n",
      "[2022-09-07 16:20:47,100] [INFO] Initialized pipeline components: ['tok2vec', 'ner']\n",
      "\u001b[38;5;2m✔ Initialized pipeline\u001b[0m\n",
      "\u001b[1m\n",
      "============================= Training pipeline =============================\u001b[0m\n",
      "\u001b[38;5;4mℹ Pipeline: ['tok2vec', 'ner']\u001b[0m\n",
      "\u001b[38;5;4mℹ Initial learn rate: 0.001\u001b[0m\n",
      "E    #       LOSS TOK2VEC  LOSS NER  ENTS_F  ENTS_P  ENTS_R  SCORE \n",
      "---  ------  ------------  --------  ------  ------  ------  ------\n",
      "  0       0          0.00     59.60   20.00  100.00   11.11    0.20\n",
      "126     200         17.97    783.87  100.00  100.00  100.00    1.00\n",
      "326     400          0.00      0.00  100.00  100.00  100.00    1.00\n",
      "526     600          0.00      0.00  100.00  100.00  100.00    1.00\n",
      "726     800          0.00      0.00  100.00  100.00  100.00    1.00\n",
      "926    1000          0.00      0.00  100.00  100.00  100.00    1.00\n",
      "1126    1200          0.00      0.00  100.00  100.00  100.00    1.00\n",
      "1326    1400          0.00      0.00  100.00  100.00  100.00    1.00\n",
      "1526    1600          0.00      0.00  100.00  100.00  100.00    1.00\n",
      "1726    1800          0.00      0.00  100.00  100.00  100.00    1.00\n",
      "\u001b[38;5;2m✔ Saved pipeline to output directory\u001b[0m\n",
      "output/model-last\n"
     ]
    }
   ],
   "source": [
    "!python -m spacy train config.cfg --output ./output --paths.train ./train.spacy --paths.dev ./train.spacy \n"
   ]
  },
  {
   "cell_type": "code",
   "execution_count": 47,
   "id": "b31df6d7",
   "metadata": {},
   "outputs": [
    {
     "data": {
      "text/html": [
       "<span class=\"tex2jax_ignore\"><div class=\"entities\" style=\"line-height: 2.5; direction: ltr\">\n",
       "<mark class=\"entity\" style=\"background: #ddd; padding: 0.45em 0.6em; margin: 0 0.25em; line-height: 1; border-radius: 0.35em;\">\n",
       "    DMA\n",
       "    <span style=\"font-size: 0.8em; font-weight: bold; line-height: 1; border-radius: 0.35em; vertical-align: middle; margin-left: 0.5rem\">Area</span>\n",
       "</mark>\n",
       " 3 is part of the Kitchener network. The average DMA water demand is 15 CMH with max demand of 18 CMH at 8AM and min demand of 8 CMH at 3AM. Pumping station S1 supplies the water to the \n",
       "<mark class=\"entity\" style=\"background: #ddd; padding: 0.45em 0.6em; margin: 0 0.25em; line-height: 1; border-radius: 0.35em;\">\n",
       "    DMA\n",
       "    <span style=\"font-size: 0.8em; font-weight: bold; line-height: 1; border-radius: 0.35em; vertical-align: middle; margin-left: 0.5rem\">Area</span>\n",
       "</mark>\n",
       ". Flow meter FM3 is at the outlet of the pumping station and inlet of the DMA and measures the pump station outflow to the \n",
       "<mark class=\"entity\" style=\"background: #ddd; padding: 0.45em 0.6em; margin: 0 0.25em; line-height: 1; border-radius: 0.35em;\">\n",
       "    DMA\n",
       "    <span style=\"font-size: 0.8em; font-weight: bold; line-height: 1; border-radius: 0.35em; vertical-align: middle; margin-left: 0.5rem\">Area</span>\n",
       "</mark>\n",
       ". The DMA is isolated from the rest of the network by 2 closed valves: V11 and V12. In the DMA we have two pressure sensors P31 and P32. The average pressure in the DMA is 67 PSI. In the DMA we have 760 customers. Customer C31 typically experiences low pressure if there is a pipe burst in the DMA. You have access to data from pressure sensors P31, P32 and flow meter FM3 so whenever someone needs to know what the data is or set up an alarm, they can ask you to do that for them.</div></span>"
      ],
      "text/plain": [
       "<IPython.core.display.HTML object>"
      ]
     },
     "metadata": {},
     "output_type": "display_data"
    }
   ],
   "source": [
    "nlp1 = spacy.load(r\"./output/model-best\") #load the best model\n",
    "text = \"DMA 3 is part of the Kitchener network. The average DMA water demand is 15 CMH with max demand of 18 CMH at 8AM and min demand of 8 CMH at 3AM. Pumping station S1 supplies the water to the DMA. Flow meter FM3 is at the outlet of the pumping station and inlet of the DMA and measures the pump station outflow to the DMA. The DMA is isolated from the rest of the network by 2 closed valves: V11 and V12. In the DMA we have two pressure sensors P31 and P32. The average pressure in the DMA is 67 PSI. In the DMA we have 760 customers. Customer C31 typically experiences low pressure if there is a pipe burst in the DMA. You have access to data from pressure sensors P31, P32 and flow meter FM3 so whenever someone needs to know what the data is or set up an alarm, they can ask you to do that for them.\"\n",
    "doc = nlp1(text)\n",
    "#displacy.serve(doc, style=\"ent\")\n",
    "spacy.displacy.render(doc, style=\"ent\", jupyter=True) # display in Jupyter"
   ]
  },
  {
   "cell_type": "code",
   "execution_count": null,
   "id": "aadd5df2",
   "metadata": {},
   "outputs": [],
   "source": []
  },
  {
   "cell_type": "code",
   "execution_count": null,
   "id": "e263d438",
   "metadata": {},
   "outputs": [],
   "source": []
  },
  {
   "cell_type": "code",
   "execution_count": null,
   "id": "cd6c7089",
   "metadata": {},
   "outputs": [],
   "source": []
  },
  {
   "cell_type": "code",
   "execution_count": null,
   "id": "b3df9de0",
   "metadata": {},
   "outputs": [],
   "source": []
  },
  {
   "cell_type": "code",
   "execution_count": null,
   "id": "ccc2a398",
   "metadata": {},
   "outputs": [],
   "source": []
  },
  {
   "cell_type": "code",
   "execution_count": null,
   "id": "8eae0a30",
   "metadata": {},
   "outputs": [],
   "source": []
  },
  {
   "cell_type": "code",
   "execution_count": null,
   "id": "80cc312c",
   "metadata": {},
   "outputs": [],
   "source": []
  },
  {
   "cell_type": "markdown",
   "id": "099ba680",
   "metadata": {},
   "source": [
    "### Using Spacy"
   ]
  },
  {
   "cell_type": "code",
   "execution_count": null,
   "id": "954af8b6",
   "metadata": {},
   "outputs": [],
   "source": [
    "! pip install spacy\n",
    "! pip install nltk\n",
    "! python -m spacy download en_core_web_sm\n",
    " \n",
    "# imports and load spacy english language package\n",
    "import spacy\n",
    "from spacy import displacy\n",
    "from spacy import tokenizer\n",
    "nlp = spacy.load('en_core_web_sm')\n",
    " \n",
    "#Load the text and process it\n",
    "# I copied the text from python wiki\n",
    "text =(\"Python is an interpreted, high-level and general-purpose programming language\n",
    "       \"Pythons design philosophy emphasizes code readability with\"\n",
    "       \"its notable use of significant indentation.\"\n",
    "       \"Its language constructs and object-oriented approach aim to\"\n",
    "       \"help programmers write clear and\"\n",
    "       \"logical code for small and large-scale projects\")\n",
    "# text2 = # copy the paragraphs from  https://www.python.org/doc/essays/\n",
    "doc = nlp(text)\n",
    "#doc2 = nlp(text2)\n",
    "sentences = list(doc.sents)\n",
    "print(sentences)\n",
    "# tokenization\n",
    "for token in doc:\n",
    "    print(token.text)\n",
    "# print entities\n",
    "ents = [(e.text, e.start_char, e.end_char, e.label_) for e in doc.ents]\n",
    "print(ents)\n",
    "# now we use displaycy function on doc2\n",
    "displacy.render(doc, style='ent', jupyter=True)"
   ]
  },
  {
   "cell_type": "markdown",
   "id": "14f7d398",
   "metadata": {},
   "source": [
    "### Using NLTK"
   ]
  },
  {
   "cell_type": "code",
   "execution_count": null,
   "id": "e728585d",
   "metadata": {
    "scrolled": true
   },
   "outputs": [],
   "source": [
    "import spacy\n",
    "from spacy import displacy\n",
    "\n",
    "text = \"DMA 3 is part of the Kitchener network. The average DMA water demand is 15 CMH with max demand of 18 CMH at 8AM and min demand of 8 CMH at 3AM. Pumping station S1 supplies the water to the DMA. Flow meter FM3 is at the outlet of the pumping station and inlet of the DMA and measures the pump station outflow to the DMA. The DMA is isolated from the rest of the network by 2 closed valves: V11 and V12. In the DMA we have two pressure sensors P31 and P32. The average pressure in the DMA is 67 PSI. In the DMA we have 760 customers. Customer C31 typically experiences low pressure if there is a pipe burst in the DMA. You have access to data from pressure sensors P31, P32 and flow meter FM3 so whenever someone needs to know what the data is or set up an alarm, they can ask you to do that for them.\"\n",
    "\n",
    "nlp = spacy.load(\"en_core_web_sm\")\n",
    "doc = nlp(text)\n",
    "displacy.serve(doc, style=\"ent\")"
   ]
  },
  {
   "cell_type": "code",
   "execution_count": null,
   "id": "a49b60b7",
   "metadata": {},
   "outputs": [],
   "source": [
    "nlp = spacy.blank(\"en\")\n",
    "ruler =nlp.add_pipe(\"entity_ruler\")\n",
    "patterns = [\n",
    "                {\"label\": \"Pressure_Sensors\",\"pattern\":[{\"ORTH\": \"P\"},{\"ORTH\": \"<dd>\"}]}\n",
    "            ]\n",
    "\n",
    "ruler.add_patterns(patterns)"
   ]
  },
  {
   "cell_type": "code",
   "execution_count": null,
   "id": "da4c9e37",
   "metadata": {},
   "outputs": [],
   "source": [
    "import spacy\n",
    "from spacy.matcher import Matcher\n",
    "\n",
    "nlp = spacy.load(\"en_core_web_sm\")\n",
    "matcher = Matcher(nlp.vocab)\n",
    "pattern = [{\"ORTH\": \"(\"}, {\"SHAPE\": \"ddd\"}, {\"ORTH\": \")\"}, {\"SHAPE\": \"ddd\"},\n",
    "           {\"ORTH\": \"-\", \"OP\": \"?\"}, {\"SHAPE\": \"ddd\"}]\n",
    "matcher.add(\"PHONE_NUMBER\", [pattern])\n",
    "\n",
    "doc = nlp(\"Call me at (123) 456 789 or (123) 456 789!\")\n",
    "print([t.text for t in doc])\n",
    "matches = matcher(doc)\n",
    "for match_id, start, end in matches:\n",
    "    span = doc[start:end]\n",
    "    print(span.text)"
   ]
  }
 ],
 "metadata": {
  "kernelspec": {
   "display_name": "Python 3 (ipykernel)",
   "language": "python",
   "name": "python3"
  },
  "language_info": {
   "codemirror_mode": {
    "name": "ipython",
    "version": 3
   },
   "file_extension": ".py",
   "mimetype": "text/x-python",
   "name": "python",
   "nbconvert_exporter": "python",
   "pygments_lexer": "ipython3",
   "version": "3.9.12"
  }
 },
 "nbformat": 4,
 "nbformat_minor": 5
}
