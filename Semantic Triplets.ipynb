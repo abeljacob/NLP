{
 "cells": [
  {
   "cell_type": "code",
   "execution_count": null,
   "id": "8320ea19",
   "metadata": {},
   "outputs": [],
   "source": [
    "def probability_dist_fn(tokens, all_count=0):\n",
    "    pos = pos_tag(tokens, tagset='universal')\n",
    "    all_count = len(pos)\n",
    "    noun_prob = len([elem[0] for elem in pos if elem[1] == 'NOUN'])/all_count\n",
    "    verb_prob = len([elem[0] for elem in pos if elem[1] == 'VERB'])/all_count\n",
    "    adj_prob = len([elem[0] for elem in pos if elem[1] == 'ADJ'])/all_count\n",
    "\n",
    "    return noun_prob, verb_prob, adj_prob, all_count"
   ]
  },
  {
   "cell_type": "code",
   "execution_count": 1,
   "id": "a2b864dd",
   "metadata": {},
   "outputs": [],
   "source": [
    "import pandas as pd\n",
    "from nltk import word_tokenize, pos_tag, ngrams\n"
   ]
  },
  {
   "cell_type": "code",
   "execution_count": 2,
   "id": "c5d99915",
   "metadata": {},
   "outputs": [],
   "source": [
    "data = pd.read_excel(\"doc.xlsx\")\n",
    "para = data['Para']"
   ]
  },
  {
   "cell_type": "code",
   "execution_count": 3,
   "id": "9af0a960",
   "metadata": {},
   "outputs": [
    {
     "data": {
      "text/plain": [
       "'DMA 3 is part of the Kitchener network. The average DMA water demand is 15 CMH with max demand of 18 CMH at 8AM and min demand of 8 CMH at 3AM. Pumping station S1 supplies the water to the DMA. Flow meter FM3 is at the outlet of the pumping station and inlet of the DMA and measures the pump station outflow to the DMA. The DMA is isolated from the rest of the network by 2 closed valves: V11 and V12. In the DMA we have two pressure sensors P31 and P32. The average pressure in the DMA is 67 PSI. In the DMA we have 760 customers. Customer C31 typically experiences low pressure if there is a pipe burst in the DMA. You have access to data from pressure sensors P31, P32 and flow meter FM3 so whenever someone needs to know what the data is or set up an alarm, they can ask you to do that for them. '"
      ]
     },
     "execution_count": 3,
     "metadata": {},
     "output_type": "execute_result"
    }
   ],
   "source": [
    "para[0]"
   ]
  },
  {
   "cell_type": "code",
   "execution_count": 4,
   "id": "bfbbdd00",
   "metadata": {},
   "outputs": [],
   "source": [
    "#!pip install stanza"
   ]
  },
  {
   "cell_type": "code",
   "execution_count": 5,
   "id": "1afa4e4a",
   "metadata": {},
   "outputs": [
    {
     "name": "stdout",
     "output_type": "stream",
     "text": [
      "[('Alex Smith', 'PERSON'), ('Acme Corp Inc.', 'ORG')]\n"
     ]
    }
   ],
   "source": [
    "import spacy\n",
    "\n",
    "nlp = spacy.load(\"en_core_web_sm\")\n",
    "doc = nlp(\"Alex Smith worked at Acme Corp Inc.\")\n",
    "print([(ent.text, ent.label_) for ent in doc.ents])"
   ]
  },
  {
   "cell_type": "code",
   "execution_count": 6,
   "id": "06b18892",
   "metadata": {},
   "outputs": [
    {
     "name": "stderr",
     "output_type": "stream",
     "text": [
      "/Users/mac/opt/anaconda3/lib/python3.9/site-packages/spacy/displacy/__init__.py:103: UserWarning: [W011] It looks like you're calling displacy.serve from within a Jupyter notebook or a similar environment. This likely means you're already running a local web server, so there's no need to make displaCy start another one. Instead, you should be able to replace displacy.serve with displacy.render to show the visualization.\n",
      "  warnings.warn(Warnings.W011)\n"
     ]
    },
    {
     "data": {
      "text/html": [
       "<span class=\"tex2jax_ignore\"><!DOCTYPE html>\n",
       "<html lang=\"en\">\n",
       "    <head>\n",
       "        <title>displaCy</title>\n",
       "    </head>\n",
       "\n",
       "    <body style=\"font-size: 16px; font-family: -apple-system, BlinkMacSystemFont, 'Segoe UI', Helvetica, Arial, sans-serif, 'Apple Color Emoji', 'Segoe UI Emoji', 'Segoe UI Symbol'; padding: 4rem 2rem; direction: ltr\">\n",
       "<figure style=\"margin-bottom: 6rem\">\n",
       "<svg xmlns=\"http://www.w3.org/2000/svg\" xmlns:xlink=\"http://www.w3.org/1999/xlink\" xml:lang=\"en\" id=\"03ac1d1ee3954b29905f895da545b860-0\" class=\"displacy\" width=\"1450\" height=\"399.5\" direction=\"ltr\" style=\"max-width: none; height: 399.5px; color: #000000; background: #ffffff; font-family: Arial; direction: ltr\">\n",
       "<text class=\"displacy-token\" fill=\"currentColor\" text-anchor=\"middle\" y=\"309.5\">\n",
       "    <tspan class=\"displacy-word\" fill=\"currentColor\" x=\"50\">DMA</tspan>\n",
       "    <tspan class=\"displacy-tag\" dy=\"2em\" fill=\"currentColor\" x=\"50\">PROPN</tspan>\n",
       "</text>\n",
       "\n",
       "<text class=\"displacy-token\" fill=\"currentColor\" text-anchor=\"middle\" y=\"309.5\">\n",
       "    <tspan class=\"displacy-word\" fill=\"currentColor\" x=\"225\">3</tspan>\n",
       "    <tspan class=\"displacy-tag\" dy=\"2em\" fill=\"currentColor\" x=\"225\">NUM</tspan>\n",
       "</text>\n",
       "\n",
       "<text class=\"displacy-token\" fill=\"currentColor\" text-anchor=\"middle\" y=\"309.5\">\n",
       "    <tspan class=\"displacy-word\" fill=\"currentColor\" x=\"400\">is</tspan>\n",
       "    <tspan class=\"displacy-tag\" dy=\"2em\" fill=\"currentColor\" x=\"400\">AUX</tspan>\n",
       "</text>\n",
       "\n",
       "<text class=\"displacy-token\" fill=\"currentColor\" text-anchor=\"middle\" y=\"309.5\">\n",
       "    <tspan class=\"displacy-word\" fill=\"currentColor\" x=\"575\">part</tspan>\n",
       "    <tspan class=\"displacy-tag\" dy=\"2em\" fill=\"currentColor\" x=\"575\">NOUN</tspan>\n",
       "</text>\n",
       "\n",
       "<text class=\"displacy-token\" fill=\"currentColor\" text-anchor=\"middle\" y=\"309.5\">\n",
       "    <tspan class=\"displacy-word\" fill=\"currentColor\" x=\"750\">of</tspan>\n",
       "    <tspan class=\"displacy-tag\" dy=\"2em\" fill=\"currentColor\" x=\"750\">ADP</tspan>\n",
       "</text>\n",
       "\n",
       "<text class=\"displacy-token\" fill=\"currentColor\" text-anchor=\"middle\" y=\"309.5\">\n",
       "    <tspan class=\"displacy-word\" fill=\"currentColor\" x=\"925\">the</tspan>\n",
       "    <tspan class=\"displacy-tag\" dy=\"2em\" fill=\"currentColor\" x=\"925\">DET</tspan>\n",
       "</text>\n",
       "\n",
       "<text class=\"displacy-token\" fill=\"currentColor\" text-anchor=\"middle\" y=\"309.5\">\n",
       "    <tspan class=\"displacy-word\" fill=\"currentColor\" x=\"1100\">Kitchener</tspan>\n",
       "    <tspan class=\"displacy-tag\" dy=\"2em\" fill=\"currentColor\" x=\"1100\">PROPN</tspan>\n",
       "</text>\n",
       "\n",
       "<text class=\"displacy-token\" fill=\"currentColor\" text-anchor=\"middle\" y=\"309.5\">\n",
       "    <tspan class=\"displacy-word\" fill=\"currentColor\" x=\"1275\">network.</tspan>\n",
       "    <tspan class=\"displacy-tag\" dy=\"2em\" fill=\"currentColor\" x=\"1275\">NOUN</tspan>\n",
       "</text>\n",
       "\n",
       "<g class=\"displacy-arrow\">\n",
       "    <path class=\"displacy-arc\" id=\"arrow-03ac1d1ee3954b29905f895da545b860-0-0\" stroke-width=\"2px\" d=\"M70,264.5 C70,89.5 395.0,89.5 395.0,264.5\" fill=\"none\" stroke=\"currentColor\"/>\n",
       "    <text dy=\"1.25em\" style=\"font-size: 0.8em; letter-spacing: 1px\">\n",
       "        <textPath xlink:href=\"#arrow-03ac1d1ee3954b29905f895da545b860-0-0\" class=\"displacy-label\" startOffset=\"50%\" side=\"left\" fill=\"currentColor\" text-anchor=\"middle\">nsubj</textPath>\n",
       "    </text>\n",
       "    <path class=\"displacy-arrowhead\" d=\"M70,266.5 L62,254.5 78,254.5\" fill=\"currentColor\"/>\n",
       "</g>\n",
       "\n",
       "<g class=\"displacy-arrow\">\n",
       "    <path class=\"displacy-arc\" id=\"arrow-03ac1d1ee3954b29905f895da545b860-0-1\" stroke-width=\"2px\" d=\"M70,264.5 C70,177.0 215.0,177.0 215.0,264.5\" fill=\"none\" stroke=\"currentColor\"/>\n",
       "    <text dy=\"1.25em\" style=\"font-size: 0.8em; letter-spacing: 1px\">\n",
       "        <textPath xlink:href=\"#arrow-03ac1d1ee3954b29905f895da545b860-0-1\" class=\"displacy-label\" startOffset=\"50%\" side=\"left\" fill=\"currentColor\" text-anchor=\"middle\">nummod</textPath>\n",
       "    </text>\n",
       "    <path class=\"displacy-arrowhead\" d=\"M215.0,266.5 L223.0,254.5 207.0,254.5\" fill=\"currentColor\"/>\n",
       "</g>\n",
       "\n",
       "<g class=\"displacy-arrow\">\n",
       "    <path class=\"displacy-arc\" id=\"arrow-03ac1d1ee3954b29905f895da545b860-0-2\" stroke-width=\"2px\" d=\"M420,264.5 C420,177.0 565.0,177.0 565.0,264.5\" fill=\"none\" stroke=\"currentColor\"/>\n",
       "    <text dy=\"1.25em\" style=\"font-size: 0.8em; letter-spacing: 1px\">\n",
       "        <textPath xlink:href=\"#arrow-03ac1d1ee3954b29905f895da545b860-0-2\" class=\"displacy-label\" startOffset=\"50%\" side=\"left\" fill=\"currentColor\" text-anchor=\"middle\">attr</textPath>\n",
       "    </text>\n",
       "    <path class=\"displacy-arrowhead\" d=\"M565.0,266.5 L573.0,254.5 557.0,254.5\" fill=\"currentColor\"/>\n",
       "</g>\n",
       "\n",
       "<g class=\"displacy-arrow\">\n",
       "    <path class=\"displacy-arc\" id=\"arrow-03ac1d1ee3954b29905f895da545b860-0-3\" stroke-width=\"2px\" d=\"M595,264.5 C595,177.0 740.0,177.0 740.0,264.5\" fill=\"none\" stroke=\"currentColor\"/>\n",
       "    <text dy=\"1.25em\" style=\"font-size: 0.8em; letter-spacing: 1px\">\n",
       "        <textPath xlink:href=\"#arrow-03ac1d1ee3954b29905f895da545b860-0-3\" class=\"displacy-label\" startOffset=\"50%\" side=\"left\" fill=\"currentColor\" text-anchor=\"middle\">prep</textPath>\n",
       "    </text>\n",
       "    <path class=\"displacy-arrowhead\" d=\"M740.0,266.5 L748.0,254.5 732.0,254.5\" fill=\"currentColor\"/>\n",
       "</g>\n",
       "\n",
       "<g class=\"displacy-arrow\">\n",
       "    <path class=\"displacy-arc\" id=\"arrow-03ac1d1ee3954b29905f895da545b860-0-4\" stroke-width=\"2px\" d=\"M945,264.5 C945,89.5 1270.0,89.5 1270.0,264.5\" fill=\"none\" stroke=\"currentColor\"/>\n",
       "    <text dy=\"1.25em\" style=\"font-size: 0.8em; letter-spacing: 1px\">\n",
       "        <textPath xlink:href=\"#arrow-03ac1d1ee3954b29905f895da545b860-0-4\" class=\"displacy-label\" startOffset=\"50%\" side=\"left\" fill=\"currentColor\" text-anchor=\"middle\">det</textPath>\n",
       "    </text>\n",
       "    <path class=\"displacy-arrowhead\" d=\"M945,266.5 L937,254.5 953,254.5\" fill=\"currentColor\"/>\n",
       "</g>\n",
       "\n",
       "<g class=\"displacy-arrow\">\n",
       "    <path class=\"displacy-arc\" id=\"arrow-03ac1d1ee3954b29905f895da545b860-0-5\" stroke-width=\"2px\" d=\"M1120,264.5 C1120,177.0 1265.0,177.0 1265.0,264.5\" fill=\"none\" stroke=\"currentColor\"/>\n",
       "    <text dy=\"1.25em\" style=\"font-size: 0.8em; letter-spacing: 1px\">\n",
       "        <textPath xlink:href=\"#arrow-03ac1d1ee3954b29905f895da545b860-0-5\" class=\"displacy-label\" startOffset=\"50%\" side=\"left\" fill=\"currentColor\" text-anchor=\"middle\">compound</textPath>\n",
       "    </text>\n",
       "    <path class=\"displacy-arrowhead\" d=\"M1120,266.5 L1112,254.5 1128,254.5\" fill=\"currentColor\"/>\n",
       "</g>\n",
       "\n",
       "<g class=\"displacy-arrow\">\n",
       "    <path class=\"displacy-arc\" id=\"arrow-03ac1d1ee3954b29905f895da545b860-0-6\" stroke-width=\"2px\" d=\"M770,264.5 C770,2.0 1275.0,2.0 1275.0,264.5\" fill=\"none\" stroke=\"currentColor\"/>\n",
       "    <text dy=\"1.25em\" style=\"font-size: 0.8em; letter-spacing: 1px\">\n",
       "        <textPath xlink:href=\"#arrow-03ac1d1ee3954b29905f895da545b860-0-6\" class=\"displacy-label\" startOffset=\"50%\" side=\"left\" fill=\"currentColor\" text-anchor=\"middle\">pobj</textPath>\n",
       "    </text>\n",
       "    <path class=\"displacy-arrowhead\" d=\"M1275.0,266.5 L1283.0,254.5 1267.0,254.5\" fill=\"currentColor\"/>\n",
       "</g>\n",
       "</svg>\n",
       "</figure>\n",
       "</body>\n",
       "</html></span>"
      ],
      "text/plain": [
       "<IPython.core.display.HTML object>"
      ]
     },
     "metadata": {},
     "output_type": "display_data"
    },
    {
     "name": "stdout",
     "output_type": "stream",
     "text": [
      "\n",
      "Using the 'dep' visualizer\n",
      "Serving on http://0.0.0.0:5000 ...\n",
      "\n",
      "Shutting down server on port 5000.\n"
     ]
    }
   ],
   "source": [
    "import spacy\n",
    "from spacy import displacy\n",
    "\n",
    "nlp = spacy.load(\"en_core_web_sm\")\n",
    "doc = nlp(\"DMA 3 is part of the Kitchener network.\")\n",
    "displacy.serve(doc, style=\"dep\")\n"
   ]
  },
  {
   "cell_type": "code",
   "execution_count": 14,
   "id": "5a3f6178",
   "metadata": {},
   "outputs": [
    {
     "data": {
      "application/vnd.jupyter.widget-view+json": {
       "model_id": "783932dddd324443a37abe47536d287d",
       "version_major": 2,
       "version_minor": 0
      },
      "text/plain": [
       "Downloading https://raw.githubusercontent.com/stanfordnlp/stanza-resources/main/resources_1.4.0.json:   0%|   …"
      ]
     },
     "metadata": {},
     "output_type": "display_data"
    },
    {
     "name": "stderr",
     "output_type": "stream",
     "text": [
      "2022-09-09 02:12:52 WARNING: Can not find mwt: default from official model list. Ignoring it.\n",
      "2022-09-09 02:12:54 INFO: Loading these models for language: en (English):\n",
      "========================\n",
      "| Processor | Package  |\n",
      "------------------------\n",
      "| tokenize  | combined |\n",
      "| pos       | combined |\n",
      "| lemma     | combined |\n",
      "| depparse  | combined |\n",
      "========================\n",
      "\n",
      "2022-09-09 02:12:54 INFO: Use device: cpu\n",
      "2022-09-09 02:12:54 INFO: Loading: tokenize\n",
      "2022-09-09 02:12:54 INFO: Loading: pos\n",
      "2022-09-09 02:12:54 INFO: Loading: lemma\n",
      "2022-09-09 02:12:54 INFO: Loading: depparse\n",
      "2022-09-09 02:12:55 INFO: Done loading processors!\n"
     ]
    },
    {
     "data": {
      "text/plain": [
       "([],\n",
       " [{'S1': 'object obj'},\n",
       "  {'water': 'object obj'},\n",
       "  {'outflow': 'object obj'},\n",
       "  {'sensors': 'object obj'},\n",
       "  {'customers': 'object obj'},\n",
       "  {'pressure': 'object obj'},\n",
       "  {'access': 'object obj'},\n",
       "  {'alarm': 'object obj'},\n",
       "  {'you': 'object obj'},\n",
       "  {'that': 'object obj'}],\n",
       " [{'Pumping': 'clausal_subject csubj'}],\n",
       " [{'DMA': 'nominal_subject nsubj'},\n",
       "  {'demand': 'nominal_subject nsubj'},\n",
       "  {'FM3': 'nominal_subject nsubj'},\n",
       "  {'we': 'nominal_subject nsubj'},\n",
       "  {'pressure': 'nominal_subject nsubj'},\n",
       "  {'we': 'nominal_subject nsubj'},\n",
       "  {'C31': 'nominal_subject nsubj'},\n",
       "  {'burst': 'nominal_subject nsubj'},\n",
       "  {'You': 'nominal_subject nsubj'},\n",
       "  {'someone': 'nominal_subject nsubj'},\n",
       "  {'data': 'nominal_subject nsubj'},\n",
       "  {'they': 'nominal_subject nsubj'}])"
      ]
     },
     "execution_count": 14,
     "metadata": {},
     "output_type": "execute_result"
    }
   ],
   "source": [
    "def find_Subject_Object(text):\n",
    "    # import required packages\n",
    "    import stanza\n",
    "    nlp = stanza.Pipeline(lang='en', processors='tokenize,mwt,pos,lemma,depparse')\n",
    "    doc = nlp(text)\n",
    "    clausal_subject = []\n",
    "    nominal_subject = []\n",
    "    indirect_object = []\n",
    "    Object          = []\n",
    "    for sent in doc.sentences:\n",
    "        for word in sent.words:\n",
    "            if word.deprel  == \"nsubj\":\n",
    "                nominal_subject.append({word.text:\"nominal_subject nsubj\"})\n",
    "            elif word.deprel  == \"csubj\":\n",
    "                clausal_subject.append({word.text:\"clausal_subject csubj\"})\n",
    "            elif word.deprel  == \"iobj\":\n",
    "                indirect_object.append({word.text:\"indirect_object iobj\"})\n",
    "            elif word.deprel  == \"obj\":\n",
    "                Object.append({word.text:\"object obj\"})\n",
    "    return indirect_object, Object, clausal_subject,nominal_subject\n",
    "\n",
    "text =\"\"\"DMA 3 is part of the Kitchener network. The average DMA water demand is 15 CMH with max demand of 18 CMH at 8AM and min demand of 8 CMH at 3AM. Pumping station S1 supplies the water to the DMA. Flow meter FM3 is at the outlet of the pumping station and inlet of the DMA and measures the pump station outflow to the DMA. The DMA is isolated from the rest of the network by 2 closed valves: V11 and V12. In the DMA we have two pressure sensors P31 and P32. The average pressure in the DMA is 67 PSI. In the DMA we have 760 customers. Customer C31 typically experiences low pressure if there is a pipe burst in the DMA. You have access to data from pressure sensors P31, P32 and flow meter FM3 so whenever someone needs to know what the data is or set up an alarm, they can ask you to do that for them.\"\"\"\n",
    "\n",
    "find_Subject_Object(text)"
   ]
  },
  {
   "cell_type": "code",
   "execution_count": null,
   "id": "5f99af20",
   "metadata": {
    "scrolled": true
   },
   "outputs": [],
   "source": [
    "#!python -m spacy download en_core_web_sm"
   ]
  },
  {
   "cell_type": "code",
   "execution_count": null,
   "id": "f5f5b1e7",
   "metadata": {},
   "outputs": [],
   "source": [
    "#!python -m spacy download en"
   ]
  },
  {
   "cell_type": "code",
   "execution_count": null,
   "id": "0fc32c7d",
   "metadata": {},
   "outputs": [],
   "source": [
    "#!python -m spacy download en_core_web_sm-2.2.0"
   ]
  },
  {
   "cell_type": "code",
   "execution_count": 8,
   "id": "d19399b5",
   "metadata": {},
   "outputs": [],
   "source": [
    "import spacy\n",
    "load_model = spacy.load(\"en_core_web_sm\")"
   ]
  },
  {
   "cell_type": "code",
   "execution_count": 9,
   "id": "d8ee6e04",
   "metadata": {},
   "outputs": [],
   "source": [
    "import nltk"
   ]
  },
  {
   "cell_type": "code",
   "execution_count": 11,
   "id": "622133b5",
   "metadata": {},
   "outputs": [],
   "source": [
    "#pos_tag(word_tokenize(para), tagset='universal')"
   ]
  },
  {
   "cell_type": "code",
   "execution_count": 12,
   "id": "714f3a73",
   "metadata": {},
   "outputs": [],
   "source": [
    "para = [nltk.word_tokenize(i) for i in para[0]]"
   ]
  },
  {
   "cell_type": "code",
   "execution_count": 13,
   "id": "d8db6220",
   "metadata": {},
   "outputs": [],
   "source": [
    "#!pip install spacy"
   ]
  },
  {
   "cell_type": "code",
   "execution_count": 13,
   "id": "965fb332",
   "metadata": {},
   "outputs": [],
   "source": [
    "# import spacy\n",
    "# nlp = spacy.load(\"en_core_web_sm\")\n",
    "# parsed_text = nlp(u'para[0]')\n",
    "\n",
    "# #get token dependencies\n",
    "# for text in parsed_text:\n",
    "#     #subject would be\n",
    "#     if text.dep_ == \"nsubj\":\n",
    "#         subject = text.orth_\n",
    "#     #iobj for indirect object\n",
    "#     if text.dep_ == \"iobj\":\n",
    "#         indirect_object = text.orth_\n",
    "#     #dobj for direct object\n",
    "#     if text.dep_ == \"dobj\":\n",
    "#         direct_object = text.orth_\n",
    "\n",
    "# print(subject)\n",
    "# print(direct_object)\n",
    "# print(indirect_object)"
   ]
  },
  {
   "cell_type": "code",
   "execution_count": 10,
   "id": "d07b6041",
   "metadata": {},
   "outputs": [],
   "source": [
    "# -*- coding: utf-8 -*-\n",
    "import argparse\n",
    "import json\n",
    "import glob\n",
    "import re\n",
    "import os\n",
    "import numpy as np\n",
    "from collections import Counter\n",
    "from wordcloud import WordCloud\n",
    "from nltk import word_tokenize, pos_tag, ngrams\n",
    "\n",
    "\n",
    "def probability_dist_fn(tokens, all_count=0):\n",
    "    pos = pos_tag(tokens, tagset='universal')\n",
    "    all_count = len(pos)\n",
    "    noun_prob = len([elem[0] for elem in pos if elem[1] == 'NOUN'])#/all_count\n",
    "    verb_prob = len([elem[0] for elem in pos if elem[1] == 'VERB'])#/all_count\n",
    "    adj_prob = len([elem[0] for elem in pos if elem[1] == 'ADJ'])#/all_count\n",
    "\n",
    "    return noun_prob, verb_prob, adj_prob, all_count"
   ]
  },
  {
   "cell_type": "code",
   "execution_count": 11,
   "id": "6bd8e8fc",
   "metadata": {},
   "outputs": [
    {
     "data": {
      "text/plain": [
       "0    DMA 3 is part of the Kitchener network. The av...\n",
       "1    DMA 5 is within the Cranford network. There is...\n",
       "2    DMA 1 is located within the Sky network. DMA 1...\n",
       "3    Cricket is a bat-and-ball game played between ...\n",
       "4    Being deeply loved by someone gives you streng...\n",
       "Name: Para, dtype: object"
      ]
     },
     "execution_count": 11,
     "metadata": {},
     "output_type": "execute_result"
    }
   ],
   "source": [
    "para"
   ]
  },
  {
   "cell_type": "code",
   "execution_count": 12,
   "id": "3d246067",
   "metadata": {},
   "outputs": [
    {
     "name": "stdout",
     "output_type": "stream",
     "text": [
      "Probability of overlapping Nouns: 5, Verbs: 0, Adjectives: 0\n",
      "Probability of Our Data Nouns: 5, Verbs: 0, Adjectives: 0\n",
      "Probability of COCO data Nouns: 5, Verbs: 0, Adjectives: 0\n"
     ]
    }
   ],
   "source": [
    "noun_prob, verb_prob, adj_prob, _ = probability_dist_fn(para)\n",
    "print ('Probability of overlapping Nouns: {}, Verbs: {}, Adjectives: {}'.format(\n",
    "        noun_prob, verb_prob, adj_prob))\n",
    "\n",
    "noun_prob, verb_prob, adj_prob, _ = probability_dist_fn(para)\n",
    "print ('Probability of Our Data Nouns: {}, Verbs: {}, Adjectives: {}'.format(\n",
    "        noun_prob, verb_prob, adj_prob))\n",
    "\n",
    "noun_prob, verb_prob, adj_prob, _ = probability_dist_fn(para)\n",
    "print ('Probability of COCO data Nouns: {}, Verbs: {}, Adjectives: {}'.format(\n",
    "        noun_prob, verb_prob, adj_prob))"
   ]
  },
  {
   "cell_type": "code",
   "execution_count": null,
   "id": "eaad33ad",
   "metadata": {},
   "outputs": [],
   "source": [
    "# word_list=[]\n",
    "# for i in range(len(para)):\n",
    "#     word_list.append([])\n",
    "# for i in range(len(para)): \n",
    "#     for word in para[I]:\n",
    "#         if word[1:].isalpha():\n",
    "#             word_list[i].append(word[1:])"
   ]
  },
  {
   "cell_type": "code",
   "execution_count": null,
   "id": "d28b42fd",
   "metadata": {},
   "outputs": [],
   "source": [
    "\n",
    "#     noun_prob, verb_prob, adj_prob, _ = probability_dist_fn(overlap)\n",
    "#     print ('Probability of overlapping Nouns: {}, Verbs: {}, Adjectives: {}'.format(\n",
    "#         noun_prob, verb_prob, adj_prob))\n",
    "\n",
    "#     noun_prob, verb_prob, adj_prob, _ = probability_dist_fn(merged_our_data)\n",
    "#     print ('Probability of Our Data Nouns: {}, Verbs: {}, Adjectives: {}'.format(\n",
    "#         noun_prob, verb_prob, adj_prob))\n",
    "\n",
    "#     noun_prob, verb_prob, adj_prob, _ = probability_dist_fn(merged_coco_data)\n",
    "#     print ('Probability of COCO data Nouns: {}, Verbs: {}, Adjectives: {}'.format(\n",
    "#         noun_prob, verb_prob, adj_prob))"
   ]
  },
  {
   "cell_type": "code",
   "execution_count": null,
   "id": "11ed2527",
   "metadata": {},
   "outputs": [],
   "source": []
  },
  {
   "cell_type": "code",
   "execution_count": null,
   "id": "6d6d3c75",
   "metadata": {},
   "outputs": [],
   "source": [
    "import pandas as pd\n",
    "import matplotlib.pyplot as plt\n",
    "import seaborn as sns\n",
    "sns.set()\n",
    "import spacy\n",
    "import pyLDAvis.gensim_models\n",
    "pyLDAvis.enable_notebook()# Visualise inside a notebook\n",
    "import en_core_web_md\n",
    "from gensim.corpora.dictionary import Dictionary\n",
    "from gensim.models import LdaMulticore\n",
    "from gensim.models import CoherenceModel"
   ]
  },
  {
   "cell_type": "code",
   "execution_count": null,
   "id": "630684f2",
   "metadata": {},
   "outputs": [],
   "source": [
    "# Our spaCy model:\n",
    "nlp = en_core_web_md.load()\n",
    "# Tags I want to remove from the text\n",
    "removal= ['ADV','PRON','CCONJ','PUNCT','PART','DET','ADP','SPACE', 'NUM', 'SYM']\n",
    "tokens = []\n",
    "for Para in nlp.pipe(data['Para']):\n",
    "   proj_tok = [token.lemma_.lower() for token in Para if token.pos_ not in removal and not token.is_stop and token.is_alpha]\n",
    "   tokens.append(proj_tok)"
   ]
  },
  {
   "cell_type": "code",
   "execution_count": null,
   "id": "40f90974",
   "metadata": {},
   "outputs": [],
   "source": [
    "data['tokens']= tokens\n",
    "data['tokens']"
   ]
  },
  {
   "cell_type": "code",
   "execution_count": null,
   "id": "3433bb9b",
   "metadata": {
    "scrolled": true
   },
   "outputs": [],
   "source": [
    "noun_prob, verb_prob, adj_prob, _ = probability_dist_fn(data['tokens'])"
   ]
  },
  {
   "cell_type": "code",
   "execution_count": null,
   "id": "a87f23be",
   "metadata": {},
   "outputs": [],
   "source": [
    "!pip install collections"
   ]
  },
  {
   "cell_type": "code",
   "execution_count": null,
   "id": "3dc323dc",
   "metadata": {
    "scrolled": true
   },
   "outputs": [],
   "source": [
    "pip install wordcloud"
   ]
  }
 ],
 "metadata": {
  "kernelspec": {
   "display_name": "Python 3 (ipykernel)",
   "language": "python",
   "name": "python3"
  },
  "language_info": {
   "codemirror_mode": {
    "name": "ipython",
    "version": 3
   },
   "file_extension": ".py",
   "mimetype": "text/x-python",
   "name": "python",
   "nbconvert_exporter": "python",
   "pygments_lexer": "ipython3",
   "version": "3.9.12"
  }
 },
 "nbformat": 4,
 "nbformat_minor": 5
}
