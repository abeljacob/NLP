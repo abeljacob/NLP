{
 "cells": [
  {
   "cell_type": "markdown",
   "id": "42f3143d",
   "metadata": {},
   "source": [
    "### Topic Modelling \n",
    "\n",
    "Semantic analysis is the process of drawing meaning from text. It allows computers to understand and interpret sentences, paragraphs, or whole documents, by analyzing their grammatical structure, and identifying relationships between individual words in a particular context"
   ]
  },
  {
   "cell_type": "code",
   "execution_count": 1,
   "id": "361be09c",
   "metadata": {},
   "outputs": [],
   "source": [
    "# !pip install pyLDAvis -qq\n",
    "# !python -m spacy download en_core_web_md -qq\n",
    "# !pip install -qq -U gensim\n",
    "# !pip install spacy -qq\n",
    "# !pip install matplotlib -qq\n",
    "# !python -m spacy download en_core_web_md -qq\n",
    "\n"
   ]
  },
  {
   "cell_type": "code",
   "execution_count": 3,
   "id": "08711c3d",
   "metadata": {},
   "outputs": [
    {
     "name": "stderr",
     "output_type": "stream",
     "text": [
      "/Users/mac/opt/anaconda3/lib/python3.9/site-packages/seaborn/rcmod.py:400: DeprecationWarning: distutils Version classes are deprecated. Use packaging.version instead.\n",
      "  if LooseVersion(mpl.__version__) >= \"3.0\":\n",
      "/Users/mac/opt/anaconda3/lib/python3.9/site-packages/setuptools/_distutils/version.py:351: DeprecationWarning: distutils Version classes are deprecated. Use packaging.version instead.\n",
      "  other = LooseVersion(other)\n",
      "/Users/mac/opt/anaconda3/lib/python3.9/site-packages/seaborn/rcmod.py:400: DeprecationWarning: distutils Version classes are deprecated. Use packaging.version instead.\n",
      "  if LooseVersion(mpl.__version__) >= \"3.0\":\n",
      "/Users/mac/opt/anaconda3/lib/python3.9/site-packages/setuptools/_distutils/version.py:351: DeprecationWarning: distutils Version classes are deprecated. Use packaging.version instead.\n",
      "  other = LooseVersion(other)\n"
     ]
    }
   ],
   "source": [
    "import pandas as pd\n",
    "import matplotlib.pyplot as plt\n",
    "import seaborn as sns\n",
    "sns.set()\n",
    "import spacy\n",
    "import pyLDAvis.gensim_models\n",
    "pyLDAvis.enable_notebook()# Visualise inside a notebook\n",
    "import en_core_web_md\n",
    "from gensim.corpora.dictionary import Dictionary\n",
    "from gensim.models import LdaMulticore\n",
    "from gensim.models import CoherenceModel"
   ]
  },
  {
   "cell_type": "code",
   "execution_count": 4,
   "id": "66cc0bf2",
   "metadata": {},
   "outputs": [],
   "source": [
    "from sklearn.feature_extraction.text import CountVectorizer\n",
    "import numpy as np\n",
    "import matplotlib.pyplot as plt"
   ]
  },
  {
   "cell_type": "code",
   "execution_count": 5,
   "id": "a4afc70b",
   "metadata": {},
   "outputs": [],
   "source": [
    "import pandas as pd"
   ]
  },
  {
   "cell_type": "code",
   "execution_count": 8,
   "id": "c0fa8c07",
   "metadata": {
    "scrolled": true
   },
   "outputs": [
    {
     "data": {
      "text/html": [
       "<div>\n",
       "<style scoped>\n",
       "    .dataframe tbody tr th:only-of-type {\n",
       "        vertical-align: middle;\n",
       "    }\n",
       "\n",
       "    .dataframe tbody tr th {\n",
       "        vertical-align: top;\n",
       "    }\n",
       "\n",
       "    .dataframe thead th {\n",
       "        text-align: right;\n",
       "    }\n",
       "</style>\n",
       "<table border=\"1\" class=\"dataframe\">\n",
       "  <thead>\n",
       "    <tr style=\"text-align: right;\">\n",
       "      <th></th>\n",
       "      <th>S_number</th>\n",
       "      <th>Para</th>\n",
       "    </tr>\n",
       "  </thead>\n",
       "  <tbody>\n",
       "    <tr>\n",
       "      <th>0</th>\n",
       "      <td>1</td>\n",
       "      <td>DMA 3 is part of the Kitchener network. The av...</td>\n",
       "    </tr>\n",
       "    <tr>\n",
       "      <th>1</th>\n",
       "      <td>2</td>\n",
       "      <td>DMA 5 is within the Cranford network. There is...</td>\n",
       "    </tr>\n",
       "    <tr>\n",
       "      <th>2</th>\n",
       "      <td>3</td>\n",
       "      <td>DMA 1 is located within the Sky network. DMA 1...</td>\n",
       "    </tr>\n",
       "    <tr>\n",
       "      <th>3</th>\n",
       "      <td>4</td>\n",
       "      <td>Cricket is a bat-and-ball game played between ...</td>\n",
       "    </tr>\n",
       "    <tr>\n",
       "      <th>4</th>\n",
       "      <td>5</td>\n",
       "      <td>Being deeply loved by someone gives you streng...</td>\n",
       "    </tr>\n",
       "  </tbody>\n",
       "</table>\n",
       "</div>"
      ],
      "text/plain": [
       "   S_number                                                Para\n",
       "0          1  DMA 3 is part of the Kitchener network. The av...\n",
       "1          2  DMA 5 is within the Cranford network. There is...\n",
       "2          3  DMA 1 is located within the Sky network. DMA 1...\n",
       "3          4  Cricket is a bat-and-ball game played between ...\n",
       "4          5  Being deeply loved by someone gives you streng..."
      ]
     },
     "execution_count": 8,
     "metadata": {},
     "output_type": "execute_result"
    },
    {
     "data": {
      "text/html": [
       "<div>\n",
       "<style scoped>\n",
       "    .dataframe tbody tr th:only-of-type {\n",
       "        vertical-align: middle;\n",
       "    }\n",
       "\n",
       "    .dataframe tbody tr th {\n",
       "        vertical-align: top;\n",
       "    }\n",
       "\n",
       "    .dataframe thead th {\n",
       "        text-align: right;\n",
       "    }\n",
       "</style>\n",
       "<table border=\"1\" class=\"dataframe\">\n",
       "  <thead>\n",
       "    <tr style=\"text-align: right;\">\n",
       "      <th></th>\n",
       "      <th>S_number</th>\n",
       "      <th>Para</th>\n",
       "    </tr>\n",
       "  </thead>\n",
       "  <tbody>\n",
       "    <tr>\n",
       "      <th>0</th>\n",
       "      <td>1</td>\n",
       "      <td>DMA 3 is part of the Kitchener network. The av...</td>\n",
       "    </tr>\n",
       "    <tr>\n",
       "      <th>1</th>\n",
       "      <td>2</td>\n",
       "      <td>DMA 5 is within the Cranford network. There is...</td>\n",
       "    </tr>\n",
       "    <tr>\n",
       "      <th>2</th>\n",
       "      <td>3</td>\n",
       "      <td>DMA 1 is located within the Sky network. DMA 1...</td>\n",
       "    </tr>\n",
       "    <tr>\n",
       "      <th>3</th>\n",
       "      <td>4</td>\n",
       "      <td>Cricket is a bat-and-ball game played between ...</td>\n",
       "    </tr>\n",
       "    <tr>\n",
       "      <th>4</th>\n",
       "      <td>5</td>\n",
       "      <td>Being deeply loved by someone gives you streng...</td>\n",
       "    </tr>\n",
       "  </tbody>\n",
       "</table>\n",
       "</div>"
      ],
      "text/plain": [
       "   S_number                                                Para\n",
       "0          1  DMA 3 is part of the Kitchener network. The av...\n",
       "1          2  DMA 5 is within the Cranford network. There is...\n",
       "2          3  DMA 1 is located within the Sky network. DMA 1...\n",
       "3          4  Cricket is a bat-and-ball game played between ...\n",
       "4          5  Being deeply loved by someone gives you streng..."
      ]
     },
     "execution_count": 8,
     "metadata": {},
     "output_type": "execute_result"
    }
   ],
   "source": [
    "data = pd.read_excel(\"doc.xlsx\")\n",
    "data"
   ]
  },
  {
   "cell_type": "code",
   "execution_count": 9,
   "id": "a3d00e19",
   "metadata": {},
   "outputs": [],
   "source": [
    "# def preprocessing(para):\n",
    "#     nlp = en_core_web_md.load()\n",
    "#     removal= ['ADV','PRON','CCONJ','PUNCT','PART','DET','ADP','SPACE', 'NUM', 'SYM']\n",
    "#     tokens = []\n",
    "#     proj_tok = [token.lemma_.lower() for token in nlp(para) if token.pos_ not in removal and not token.is_stop and token.is_alpha]\n",
    "#     tokens.append(proj_tok)\n",
    "#     dictionary = Dictionary(tokens)\n",
    "#     dic.filter_extremes(no_below=1)\n",
    "#     corpus = [dictionary.doc2bow(doc) for doc in tokens]\n",
    "#     lda_model = LdaMulticore(corpus=corpus, id2word=dictionary, iterations=50, num_topics=5, workers = 4, passes=10)\n",
    "#     print (lda_model.print_topics())\n",
    "#     lda_model[corpus][0]\n",
    "#     print('The topic number is :',lda_model[corpus][0])\n",
    "#     return corpus, dictionary\n"
   ]
  },
  {
   "cell_type": "code",
   "execution_count": 10,
   "id": "76057be8",
   "metadata": {
    "scrolled": true
   },
   "outputs": [],
   "source": [
    "# corpus,dictionary = preprocessing(doc)\n",
    "# lda_model = LdaMulticore(corpus=corpus, id2word=dictionary, iterations=50, num_topics=5, workers = 4, passes=10)\n",
    "# print (lda_model.print_topics())\n",
    "# #lda_model[corpus][0]\n",
    "# print('The model is :',lda_model[corpus][0])\n",
    "# lda_display = pyLDAvis.gensim_models.prepare(lda_model, corpus, dictionary)\n",
    "# pyLDAvis.display(lda_display)"
   ]
  },
  {
   "cell_type": "code",
   "execution_count": 11,
   "id": "f4ff9c65",
   "metadata": {},
   "outputs": [],
   "source": [
    "# Our spaCy model:\n",
    "nlp = en_core_web_md.load()\n",
    "# Tags I want to remove from the text\n",
    "removal= ['ADV','PRON','CCONJ','PUNCT','PART','DET','ADP','SPACE', 'NUM', 'SYM']\n",
    "tokens = []\n",
    "for Para in nlp.pipe(data['Para']):\n",
    "   proj_tok = [token.lemma_.lower() for token in Para if token.pos_ not in removal and not token.is_stop and token.is_alpha]\n",
    "   tokens.append(proj_tok)"
   ]
  },
  {
   "cell_type": "code",
   "execution_count": 12,
   "id": "2083147b",
   "metadata": {},
   "outputs": [],
   "source": [
    "# #Our spaCy model:\n",
    "\n",
    "# nlp = en_core_web_md.load()\n",
    "# # Tags I want to remove from the text\n",
    "# #removal= ['ADV','PRON','CCONJ','PUNCT','PART','DET','ADP', 'NUM', 'SYM']\n",
    "# tokens = []\n",
    "# #for doc in nlp(doc):\n",
    "# proj_tok = [token.lemma_.lower() for token in nlp(doc) if token.pos_ not in removal and not token.is_stop and token.is_alpha]\n",
    "# tokens.append(proj_tok)"
   ]
  },
  {
   "cell_type": "code",
   "execution_count": 13,
   "id": "4da8c8c9",
   "metadata": {},
   "outputs": [],
   "source": [
    "#tokens"
   ]
  },
  {
   "cell_type": "code",
   "execution_count": 14,
   "id": "80ad6360",
   "metadata": {},
   "outputs": [
    {
     "data": {
      "text/plain": [
       "0    [dma, kitchener, network, average, dma, water,...\n",
       "1    [dma, cranford, network, average, water, deman...\n",
       "2    [dma, locate, sky, network, dma, min, demand, ...\n",
       "3    [cricket, bat, ball, game, play, team, player,...\n",
       "4    [love, give, strength, love, give, courage, al...\n",
       "Name: tokens, dtype: object"
      ]
     },
     "execution_count": 14,
     "metadata": {},
     "output_type": "execute_result"
    },
    {
     "data": {
      "text/plain": [
       "0    [dma, kitchener, network, average, dma, water,...\n",
       "1    [dma, cranford, network, average, water, deman...\n",
       "2    [dma, locate, sky, network, dma, min, demand, ...\n",
       "3    [cricket, bat, ball, game, play, team, player,...\n",
       "4    [love, give, strength, love, give, courage, al...\n",
       "Name: tokens, dtype: object"
      ]
     },
     "execution_count": 14,
     "metadata": {},
     "output_type": "execute_result"
    }
   ],
   "source": [
    "data['tokens']= tokens\n",
    "data['tokens']"
   ]
  },
  {
   "cell_type": "code",
   "execution_count": 15,
   "id": "68d9897d",
   "metadata": {},
   "outputs": [],
   "source": [
    "# I will apply the Dictionary Object from Gensim, which maps each word to their unique ID:\n",
    "dictionary = Dictionary(data['tokens'])"
   ]
  },
  {
   "cell_type": "code",
   "execution_count": 16,
   "id": "7cede39e",
   "metadata": {
    "scrolled": true
   },
   "outputs": [
    {
     "name": "stdout",
     "output_type": "stream",
     "text": [
      "{'access': 0, 'alarm': 1, 'ask': 2, 'average': 3, 'burst': 4, 'close': 5, 'cmh': 6, 'customer': 7, 'data': 8, 'datum': 9, 'demand': 10, 'dma': 11, 'experience': 12, 'flow': 13, 'inlet': 14, 'isolate': 15, 'kitchener': 16, 'know': 17, 'low': 18, 'max': 19, 'measure': 20, 'meter': 21, 'min': 22, 'need': 23, 'network': 24, 'outflow': 25, 'outlet': 26, 'pipe': 27, 'pressure': 28, 'psi': 29, 'pump': 30, 'pumping': 31, 'rest': 32, 'sensor': 33, 'set': 34, 'station': 35, 'supply': 36, 'valve': 37, 'water': 38, 'check': 39, 'connection': 40, 'cranford': 41, 'live': 42, 'alert': 43, 'large': 44, 'locate': 45, 'problem': 46, 'sky': 47, 'adjudicate': 48, 'aid': 49, 'aim': 50, 'bail': 51, 'balance': 52, 'ball': 53, 'bat': 54, 'batter': 55, 'batting': 56, 'boundary': 57, 'bowl': 58, 'bowled': 59, 'bowler': 60, 'call': 61, 'catch': 62, 'centre': 63, 'complete': 64, 'comprise': 65, 'crease': 66, 'cricket': 67, 'cross': 68, 'dislodge': 69, 'dismiss': 70, 'dismissal': 71, 'end': 72, 'field': 73, 'fielding': 74, 'game': 75, 'ground': 76, 'hit': 77, 'include': 78, 'inning': 79, 'innings': 80, 'international': 81, 'line': 82, 'lose': 83, 'match': 84, 'mean': 85, 'metre': 86, 'opposite': 87, 'pitch': 88, 'pitchwith': 89, 'play': 90, 'player': 91, 'prevent': 92, 'proceed': 93, 'propel': 94, 'provide': 95, 'reach': 96, 'referee': 97, 'result': 98, 'role': 99, 'run': 100, 'say': 101, 'scheduled': 102, 'score': 103, 'scoring': 104, 'strike': 105, 'stump': 106, 'swap': 107, 'team': 108, 'time': 109, 'touch': 110, 'umpire': 111, 'wicket': 112, 'win': 113, 'yard': 114, 'alive': 115, 'courage': 116, 'give': 117, 'happiness': 118, 'life': 119, 'love': 120, 'strength': 121, 'thing': 122}\n",
      "{'access': 0, 'alarm': 1, 'ask': 2, 'average': 3, 'burst': 4, 'close': 5, 'cmh': 6, 'customer': 7, 'data': 8, 'datum': 9, 'demand': 10, 'dma': 11, 'experience': 12, 'flow': 13, 'inlet': 14, 'isolate': 15, 'kitchener': 16, 'know': 17, 'low': 18, 'max': 19, 'measure': 20, 'meter': 21, 'min': 22, 'need': 23, 'network': 24, 'outflow': 25, 'outlet': 26, 'pipe': 27, 'pressure': 28, 'psi': 29, 'pump': 30, 'pumping': 31, 'rest': 32, 'sensor': 33, 'set': 34, 'station': 35, 'supply': 36, 'valve': 37, 'water': 38, 'check': 39, 'connection': 40, 'cranford': 41, 'live': 42, 'alert': 43, 'large': 44, 'locate': 45, 'problem': 46, 'sky': 47, 'adjudicate': 48, 'aid': 49, 'aim': 50, 'bail': 51, 'balance': 52, 'ball': 53, 'bat': 54, 'batter': 55, 'batting': 56, 'boundary': 57, 'bowl': 58, 'bowled': 59, 'bowler': 60, 'call': 61, 'catch': 62, 'centre': 63, 'complete': 64, 'comprise': 65, 'crease': 66, 'cricket': 67, 'cross': 68, 'dislodge': 69, 'dismiss': 70, 'dismissal': 71, 'end': 72, 'field': 73, 'fielding': 74, 'game': 75, 'ground': 76, 'hit': 77, 'include': 78, 'inning': 79, 'innings': 80, 'international': 81, 'line': 82, 'lose': 83, 'match': 84, 'mean': 85, 'metre': 86, 'opposite': 87, 'pitch': 88, 'pitchwith': 89, 'play': 90, 'player': 91, 'prevent': 92, 'proceed': 93, 'propel': 94, 'provide': 95, 'reach': 96, 'referee': 97, 'result': 98, 'role': 99, 'run': 100, 'say': 101, 'scheduled': 102, 'score': 103, 'scoring': 104, 'strike': 105, 'stump': 106, 'swap': 107, 'team': 108, 'time': 109, 'touch': 110, 'umpire': 111, 'wicket': 112, 'win': 113, 'yard': 114, 'alive': 115, 'courage': 116, 'give': 117, 'happiness': 118, 'life': 119, 'love': 120, 'strength': 121, 'thing': 122}\n"
     ]
    }
   ],
   "source": [
    "print(dictionary.token2id)\n",
    "dic=dictionary"
   ]
  },
  {
   "cell_type": "code",
   "execution_count": 17,
   "id": "dc651ca8",
   "metadata": {},
   "outputs": [],
   "source": [
    "dic.filter_extremes(no_below=1)"
   ]
  },
  {
   "cell_type": "code",
   "execution_count": 18,
   "id": "7abbaa44",
   "metadata": {},
   "outputs": [
    {
     "name": "stdout",
     "output_type": "stream",
     "text": [
      "{'access': 0, 'alarm': 1, 'ask': 2, 'close': 3, 'data': 4, 'inlet': 5, 'kitchener': 6, 'know': 7, 'need': 8, 'outflow': 9, 'outlet': 10, 'pumping': 11, 'rest': 12, 'set': 13, 'check': 14, 'connection': 15, 'cranford': 16, 'live': 17, 'alert': 18, 'large': 19, 'locate': 20, 'problem': 21, 'sky': 22, 'adjudicate': 23, 'aid': 24, 'aim': 25, 'bail': 26, 'balance': 27, 'ball': 28, 'bat': 29, 'batter': 30, 'batting': 31, 'boundary': 32, 'bowl': 33, 'bowled': 34, 'bowler': 35, 'call': 36, 'catch': 37, 'centre': 38, 'complete': 39, 'comprise': 40, 'crease': 41, 'cricket': 42, 'cross': 43, 'dislodge': 44, 'dismiss': 45, 'dismissal': 46, 'end': 47, 'field': 48, 'fielding': 49, 'game': 50, 'ground': 51, 'hit': 52, 'include': 53, 'inning': 54, 'innings': 55, 'international': 56, 'line': 57, 'lose': 58, 'match': 59, 'mean': 60, 'metre': 61, 'opposite': 62, 'pitch': 63, 'pitchwith': 64, 'play': 65, 'player': 66, 'prevent': 67, 'proceed': 68, 'propel': 69, 'provide': 70, 'reach': 71, 'referee': 72, 'result': 73, 'role': 74, 'run': 75, 'say': 76, 'scheduled': 77, 'score': 78, 'scoring': 79, 'strike': 80, 'stump': 81, 'swap': 82, 'team': 83, 'time': 84, 'touch': 85, 'umpire': 86, 'wicket': 87, 'win': 88, 'yard': 89, 'alive': 90, 'courage': 91, 'give': 92, 'happiness': 93, 'life': 94, 'love': 95, 'strength': 96, 'thing': 97}\n",
      "{'access': 0, 'alarm': 1, 'ask': 2, 'close': 3, 'data': 4, 'inlet': 5, 'kitchener': 6, 'know': 7, 'need': 8, 'outflow': 9, 'outlet': 10, 'pumping': 11, 'rest': 12, 'set': 13, 'check': 14, 'connection': 15, 'cranford': 16, 'live': 17, 'alert': 18, 'large': 19, 'locate': 20, 'problem': 21, 'sky': 22, 'adjudicate': 23, 'aid': 24, 'aim': 25, 'bail': 26, 'balance': 27, 'ball': 28, 'bat': 29, 'batter': 30, 'batting': 31, 'boundary': 32, 'bowl': 33, 'bowled': 34, 'bowler': 35, 'call': 36, 'catch': 37, 'centre': 38, 'complete': 39, 'comprise': 40, 'crease': 41, 'cricket': 42, 'cross': 43, 'dislodge': 44, 'dismiss': 45, 'dismissal': 46, 'end': 47, 'field': 48, 'fielding': 49, 'game': 50, 'ground': 51, 'hit': 52, 'include': 53, 'inning': 54, 'innings': 55, 'international': 56, 'line': 57, 'lose': 58, 'match': 59, 'mean': 60, 'metre': 61, 'opposite': 62, 'pitch': 63, 'pitchwith': 64, 'play': 65, 'player': 66, 'prevent': 67, 'proceed': 68, 'propel': 69, 'provide': 70, 'reach': 71, 'referee': 72, 'result': 73, 'role': 74, 'run': 75, 'say': 76, 'scheduled': 77, 'score': 78, 'scoring': 79, 'strike': 80, 'stump': 81, 'swap': 82, 'team': 83, 'time': 84, 'touch': 85, 'umpire': 86, 'wicket': 87, 'win': 88, 'yard': 89, 'alive': 90, 'courage': 91, 'give': 92, 'happiness': 93, 'life': 94, 'love': 95, 'strength': 96, 'thing': 97}\n"
     ]
    }
   ],
   "source": [
    "print(dic.token2id)\n"
   ]
  },
  {
   "cell_type": "code",
   "execution_count": 19,
   "id": "781455dd",
   "metadata": {},
   "outputs": [],
   "source": [
    "corpus = [dictionary.doc2bow(doc) for doc in data['tokens']]"
   ]
  },
  {
   "cell_type": "code",
   "execution_count": 20,
   "id": "85fe7a2d",
   "metadata": {},
   "outputs": [
    {
     "data": {
      "text/plain": [
       "[[(0, 1),\n",
       "  (1, 1),\n",
       "  (2, 1),\n",
       "  (3, 1),\n",
       "  (4, 1),\n",
       "  (5, 1),\n",
       "  (6, 1),\n",
       "  (7, 1),\n",
       "  (8, 1),\n",
       "  (9, 1),\n",
       "  (10, 1),\n",
       "  (11, 1),\n",
       "  (12, 1),\n",
       "  (13, 1)],\n",
       " [(3, 1), (8, 1), (14, 1), (15, 1), (16, 1), (17, 1)],\n",
       " [(0, 1), (5, 1), (10, 1), (18, 1), (19, 1), (20, 2), (21, 1), (22, 1)],\n",
       " [(23, 1),\n",
       "  (24, 1),\n",
       "  (25, 2),\n",
       "  (26, 2),\n",
       "  (27, 1),\n",
       "  (28, 8),\n",
       "  (29, 2),\n",
       "  (30, 5),\n",
       "  (31, 2),\n",
       "  (32, 1),\n",
       "  (33, 3),\n",
       "  (34, 1),\n",
       "  (35, 3),\n",
       "  (36, 1),\n",
       "  (37, 1),\n",
       "  (38, 1),\n",
       "  (39, 3),\n",
       "  (40, 1),\n",
       "  (41, 1),\n",
       "  (42, 1),\n",
       "  (43, 1),\n",
       "  (44, 1),\n",
       "  (45, 2),\n",
       "  (46, 1),\n",
       "  (47, 8),\n",
       "  (48, 2),\n",
       "  (49, 3),\n",
       "  (50, 4),\n",
       "  (51, 1),\n",
       "  (52, 3),\n",
       "  (53, 1),\n",
       "  (54, 1),\n",
       "  (55, 1),\n",
       "  (56, 1),\n",
       "  (57, 1),\n",
       "  (58, 1),\n",
       "  (59, 2),\n",
       "  (60, 1),\n",
       "  (61, 1),\n",
       "  (62, 1),\n",
       "  (63, 4),\n",
       "  (64, 1),\n",
       "  (65, 1),\n",
       "  (66, 4),\n",
       "  (67, 1),\n",
       "  (68, 1),\n",
       "  (69, 1),\n",
       "  (70, 1),\n",
       "  (71, 1),\n",
       "  (72, 1),\n",
       "  (73, 1),\n",
       "  (74, 1),\n",
       "  (75, 5),\n",
       "  (76, 1),\n",
       "  (77, 1),\n",
       "  (78, 2),\n",
       "  (79, 1),\n",
       "  (80, 1),\n",
       "  (81, 2),\n",
       "  (82, 2),\n",
       "  (83, 5),\n",
       "  (84, 1),\n",
       "  (85, 1),\n",
       "  (86, 2),\n",
       "  (87, 5),\n",
       "  (88, 1),\n",
       "  (89, 1)],\n",
       " [(90, 1), (91, 1), (92, 2), (93, 1), (94, 1), (95, 7), (96, 1), (97, 2)]]"
      ]
     },
     "execution_count": 20,
     "metadata": {},
     "output_type": "execute_result"
    },
    {
     "data": {
      "text/plain": [
       "[[(0, 1),\n",
       "  (1, 1),\n",
       "  (2, 1),\n",
       "  (3, 1),\n",
       "  (4, 1),\n",
       "  (5, 1),\n",
       "  (6, 1),\n",
       "  (7, 1),\n",
       "  (8, 1),\n",
       "  (9, 1),\n",
       "  (10, 1),\n",
       "  (11, 1),\n",
       "  (12, 1),\n",
       "  (13, 1)],\n",
       " [(3, 1), (8, 1), (14, 1), (15, 1), (16, 1), (17, 1)],\n",
       " [(0, 1), (5, 1), (10, 1), (18, 1), (19, 1), (20, 2), (21, 1), (22, 1)],\n",
       " [(23, 1),\n",
       "  (24, 1),\n",
       "  (25, 2),\n",
       "  (26, 2),\n",
       "  (27, 1),\n",
       "  (28, 8),\n",
       "  (29, 2),\n",
       "  (30, 5),\n",
       "  (31, 2),\n",
       "  (32, 1),\n",
       "  (33, 3),\n",
       "  (34, 1),\n",
       "  (35, 3),\n",
       "  (36, 1),\n",
       "  (37, 1),\n",
       "  (38, 1),\n",
       "  (39, 3),\n",
       "  (40, 1),\n",
       "  (41, 1),\n",
       "  (42, 1),\n",
       "  (43, 1),\n",
       "  (44, 1),\n",
       "  (45, 2),\n",
       "  (46, 1),\n",
       "  (47, 8),\n",
       "  (48, 2),\n",
       "  (49, 3),\n",
       "  (50, 4),\n",
       "  (51, 1),\n",
       "  (52, 3),\n",
       "  (53, 1),\n",
       "  (54, 1),\n",
       "  (55, 1),\n",
       "  (56, 1),\n",
       "  (57, 1),\n",
       "  (58, 1),\n",
       "  (59, 2),\n",
       "  (60, 1),\n",
       "  (61, 1),\n",
       "  (62, 1),\n",
       "  (63, 4),\n",
       "  (64, 1),\n",
       "  (65, 1),\n",
       "  (66, 4),\n",
       "  (67, 1),\n",
       "  (68, 1),\n",
       "  (69, 1),\n",
       "  (70, 1),\n",
       "  (71, 1),\n",
       "  (72, 1),\n",
       "  (73, 1),\n",
       "  (74, 1),\n",
       "  (75, 5),\n",
       "  (76, 1),\n",
       "  (77, 1),\n",
       "  (78, 2),\n",
       "  (79, 1),\n",
       "  (80, 1),\n",
       "  (81, 2),\n",
       "  (82, 2),\n",
       "  (83, 5),\n",
       "  (84, 1),\n",
       "  (85, 1),\n",
       "  (86, 2),\n",
       "  (87, 5),\n",
       "  (88, 1),\n",
       "  (89, 1)],\n",
       " [(90, 1), (91, 1), (92, 2), (93, 1), (94, 1), (95, 7), (96, 1), (97, 2)]]"
      ]
     },
     "execution_count": 20,
     "metadata": {},
     "output_type": "execute_result"
    }
   ],
   "source": [
    "corpus"
   ]
  },
  {
   "cell_type": "code",
   "execution_count": 23,
   "id": "b5effca3",
   "metadata": {
    "scrolled": true
   },
   "outputs": [],
   "source": [
    "lda_model = LdaMulticore(corpus=corpus, id2word=dictionary, iterations=50, num_topics=5, workers = 4, passes=10)"
   ]
  },
  {
   "cell_type": "code",
   "execution_count": 24,
   "id": "567bc323",
   "metadata": {
    "scrolled": true
   },
   "outputs": [
    {
     "data": {
      "text/plain": [
       "[(0,\n",
       "  '0.145*\"love\" + 0.044*\"give\" + 0.044*\"thing\" + 0.024*\"alive\" + 0.024*\"life\" + 0.024*\"happiness\" + 0.024*\"strength\" + 0.024*\"courage\" + 0.024*\"rest\" + 0.024*\"ask\"'),\n",
       " (1,\n",
       "  '0.010*\"ball\" + 0.010*\"end\" + 0.010*\"batter\" + 0.010*\"run\" + 0.010*\"team\" + 0.010*\"player\" + 0.010*\"wicket\" + 0.010*\"pitch\" + 0.010*\"game\" + 0.010*\"bowl\"'),\n",
       " (2,\n",
       "  '0.077*\"locate\" + 0.042*\"access\" + 0.042*\"outlet\" + 0.042*\"inlet\" + 0.042*\"sky\" + 0.042*\"problem\" + 0.042*\"large\" + 0.042*\"alert\" + 0.007*\"close\" + 0.007*\"need\"'),\n",
       " (3,\n",
       "  '0.056*\"end\" + 0.056*\"ball\" + 0.035*\"wicket\" + 0.035*\"run\" + 0.035*\"team\" + 0.035*\"batter\" + 0.029*\"game\" + 0.029*\"pitch\" + 0.029*\"player\" + 0.022*\"hit\"'),\n",
       " (4,\n",
       "  '0.047*\"need\" + 0.047*\"close\" + 0.047*\"live\" + 0.047*\"check\" + 0.047*\"connection\" + 0.047*\"cranford\" + 0.008*\"batter\" + 0.008*\"ball\" + 0.008*\"end\" + 0.008*\"team\"')]"
      ]
     },
     "execution_count": 24,
     "metadata": {},
     "output_type": "execute_result"
    },
    {
     "data": {
      "text/plain": [
       "[(0,\n",
       "  '0.145*\"love\" + 0.044*\"give\" + 0.044*\"thing\" + 0.024*\"alive\" + 0.024*\"life\" + 0.024*\"happiness\" + 0.024*\"strength\" + 0.024*\"courage\" + 0.024*\"rest\" + 0.024*\"ask\"'),\n",
       " (1,\n",
       "  '0.010*\"ball\" + 0.010*\"end\" + 0.010*\"batter\" + 0.010*\"run\" + 0.010*\"team\" + 0.010*\"player\" + 0.010*\"wicket\" + 0.010*\"pitch\" + 0.010*\"game\" + 0.010*\"bowl\"'),\n",
       " (2,\n",
       "  '0.077*\"locate\" + 0.042*\"access\" + 0.042*\"outlet\" + 0.042*\"inlet\" + 0.042*\"sky\" + 0.042*\"problem\" + 0.042*\"large\" + 0.042*\"alert\" + 0.007*\"close\" + 0.007*\"need\"'),\n",
       " (3,\n",
       "  '0.056*\"end\" + 0.056*\"ball\" + 0.035*\"wicket\" + 0.035*\"run\" + 0.035*\"team\" + 0.035*\"batter\" + 0.029*\"game\" + 0.029*\"pitch\" + 0.029*\"player\" + 0.022*\"hit\"'),\n",
       " (4,\n",
       "  '0.047*\"need\" + 0.047*\"close\" + 0.047*\"live\" + 0.047*\"check\" + 0.047*\"connection\" + 0.047*\"cranford\" + 0.008*\"batter\" + 0.008*\"ball\" + 0.008*\"end\" + 0.008*\"team\"')]"
      ]
     },
     "execution_count": 24,
     "metadata": {},
     "output_type": "execute_result"
    }
   ],
   "source": [
    "lda_model.print_topics(-1)\n"
   ]
  },
  {
   "cell_type": "code",
   "execution_count": null,
   "id": "10d7df72",
   "metadata": {},
   "outputs": [],
   "source": [
    "lda_model[corpus][1]"
   ]
  },
  {
   "cell_type": "code",
   "execution_count": null,
   "id": "e11fc21c",
   "metadata": {},
   "outputs": [],
   "source": [
    "lda_model[corpus][4]"
   ]
  },
  {
   "cell_type": "code",
   "execution_count": null,
   "id": "e55664de",
   "metadata": {},
   "outputs": [],
   "source": [
    "topics = []\n",
    "score = []\n",
    "for i in range(1,20,1):\n",
    "   lda_model = LdaMulticore(corpus=corpus, id2word=dictionary, iterations=10, num_topics=i, workers = 4, passes=10, random_state=100)\n",
    "   cm = CoherenceModel(model=lda_model, corpus=corpus, dictionary=dictionary, coherence='u_mass')\n",
    "   topics.append(i)\n",
    "   score.append(cm.get_coherence())\n",
    "_=plt.plot(topics, score)\n",
    "_=plt.xlabel('Number of Topics')\n",
    "_=plt.ylabel('Coherence Score')\n",
    "plt.show()"
   ]
  },
  {
   "cell_type": "code",
   "execution_count": null,
   "id": "a7f30500",
   "metadata": {},
   "outputs": [],
   "source": [
    "topics = []\n",
    "score = []\n",
    "for i in range(1,20,1):\n",
    "   lda_model = LdaMulticore(corpus=corpus, id2word=dictionary, iterations=10, num_topics=i, workers = 4, passes=10, random_state=100)\n",
    "   cm = CoherenceModel(model=lda_model, texts = data['tokens'], corpus=corpus, dictionary=dictionary, coherence='c_v')\n",
    "   topics.append(i)\n",
    "   score.append(cm.get_coherence())\n",
    "_=plt.plot(topics, score)\n",
    "_=plt.xlabel('Number of Topics')\n",
    "_=plt.ylabel('Coherence Score')\n",
    "plt.show()"
   ]
  },
  {
   "cell_type": "code",
   "execution_count": null,
   "id": "d21f420f",
   "metadata": {},
   "outputs": [],
   "source": [
    "lda_model = LdaMulticore(corpus=corpus, id2word=dictionary, iterations=100, num_topics=5, workers = 4, passes=100)"
   ]
  },
  {
   "cell_type": "code",
   "execution_count": null,
   "id": "391ce1f9",
   "metadata": {},
   "outputs": [],
   "source": [
    "#print(lda_model)"
   ]
  },
  {
   "cell_type": "code",
   "execution_count": null,
   "id": "1a6a1e75",
   "metadata": {
    "scrolled": true
   },
   "outputs": [],
   "source": [
    "lda_model.print_topics(-1)\n"
   ]
  },
  {
   "cell_type": "code",
   "execution_count": null,
   "id": "9b5ee00b",
   "metadata": {},
   "outputs": [],
   "source": [
    "lda_model[corpus][4]"
   ]
  },
  {
   "cell_type": "markdown",
   "id": "ee4f78d0",
   "metadata": {},
   "source": [
    "https://meet.google.com/qjn-ypsg-avx "
   ]
  },
  {
   "cell_type": "code",
   "execution_count": null,
   "id": "4534fa3d",
   "metadata": {},
   "outputs": [],
   "source": [
    "lda_display = pyLDAvis.gensim_models.prepare(lda_model, corpus, dictionary)\n",
    "pyLDAvis.display(lda_display)"
   ]
  },
  {
   "cell_type": "markdown",
   "id": "d10a5559",
   "metadata": {},
   "source": [
    "https://towardsdatascience.com/topic-modelling-in-python-with-spacy-and-gensim-dc8f7748bdbf\n",
    "\n",
    "https://www.pluralsight.com/guides/topic-identification-nlp "
   ]
  }
 ],
 "metadata": {
  "kernelspec": {
   "display_name": "Python 3 (ipykernel)",
   "language": "python",
   "name": "python3"
  },
  "language_info": {
   "codemirror_mode": {
    "name": "ipython",
    "version": 3
   },
   "file_extension": ".py",
   "mimetype": "text/x-python",
   "name": "python",
   "nbconvert_exporter": "python",
   "pygments_lexer": "ipython3",
   "version": "3.9.12"
  }
 },
 "nbformat": 4,
 "nbformat_minor": 5
}
